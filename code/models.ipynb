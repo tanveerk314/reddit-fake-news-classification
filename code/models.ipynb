{
 "cells": [
  {
   "cell_type": "markdown",
   "id": "fdbf6445-21ea-4c69-89e3-b3bd554ef1a9",
   "metadata": {
    "id": "fdbf6445-21ea-4c69-89e3-b3bd554ef1a9"
   },
   "source": [
    "# Models \n",
    "\n",
    "## Methodology  \n",
    "\n",
    "In order to vectorize our data for modeling purpose we will use the Count Vectorizer which uses a bag of words approach. Each string is tokenized by words and transformed into columns retaining the number of times the word appears in the string. \n",
    "\n",
    "To establish a baseline to compare our models to we will use Dummy Classifier which simply guesses at random the classification of each observation. \n",
    "\n",
    "\n",
    "We will use a multinomial naive bayes and a decision tree model to optimize our metrics. \n",
    "\n",
    "For each model we will begin with the default hyperparameters and attempt to tune the hyperparamters to see if it is possible to obtain better results. \n"
   ]
  },
  {
   "cell_type": "code",
   "execution_count": 1,
   "id": "121ca4df-ab3f-4078-b118-72cb177dad1b",
   "metadata": {
    "id": "121ca4df-ab3f-4078-b118-72cb177dad1b"
   },
   "outputs": [],
   "source": [
    "# imports \n",
    "import matplotlib.pyplot as plt\n",
    "import pandas as pd\n",
    "import seaborn as sns\n",
    "import numpy as np\n",
    "\n",
    "# transformer\n",
    "from sklearn.feature_extraction.text import CountVectorizer\n",
    "\n",
    "# model pipeline \n",
    "from sklearn.pipeline import Pipeline\n",
    "from sklearn.model_selection import train_test_split, RandomizedSearchCV, GridSearchCV\n",
    "# models \n",
    "from sklearn.naive_bayes import MultinomialNB\n",
    "from sklearn.tree import DecisionTreeClassifier\n",
    "from sklearn.dummy import DummyClassifier\n",
    "\n",
    "#distributions for searching different hyperparamters\n",
    "from scipy.stats import uniform, loguniform,randint\n",
    "\n",
    "# model metrics\n",
    "import sklearn.metrics"
   ]
  },
  {
   "cell_type": "code",
   "execution_count": 2,
   "id": "LHDHcHkM85Dd",
   "metadata": {
    "id": "LHDHcHkM85Dd"
   },
   "outputs": [],
   "source": [
    "# helper function to visualize impact of different values for hyperparamters \n",
    "def graph_cv_results(model,param):\n",
    "  'returns graph of different param values tried by search against F1 score'\n",
    "  model_results = pd.DataFrame(model.cv_results_)\n",
    "  x=model_results[f\"param_{param}\"]\n",
    "  y=model_results['mean_test_f1_weighted']\n",
    "  sns.scatterplot(x=x,y=y)\n",
    "  #ymax = max(y)\n",
    "  #xpos = y.index(ymax)\n",
    "  return #f\"Max Value of mean_test_f1_weighted occurs at {max(x)} \""
   ]
  },
  {
   "cell_type": "code",
   "execution_count": 23,
   "id": "RTKSiV0byF2r",
   "metadata": {
    "id": "RTKSiV0byF2r"
   },
   "outputs": [],
   "source": [
    "# evaluation metrics for modelling \n",
    "metrics= ['accuracy','f1_weighted']"
   ]
  },
  {
   "cell_type": "markdown",
   "id": "JvvRGpDTRqg9",
   "metadata": {
    "id": "JvvRGpDTRqg9"
   },
   "source": [
    "# Dummy Classifier"
   ]
  },
  {
   "cell_type": "code",
   "execution_count": 4,
   "id": "wNccnN7jDbPk",
   "metadata": {
    "id": "wNccnN7jDbPk"
   },
   "outputs": [],
   "source": [
    "# load dataset \n",
    "df =pd.read_csv('./data/raw_posts.csv')"
   ]
  },
  {
   "cell_type": "code",
   "execution_count": 5,
   "id": "zgfNYuiPHPIh",
   "metadata": {
    "id": "zgfNYuiPHPIh"
   },
   "outputs": [],
   "source": [
    "# define X and y \n",
    "X= df['title'] \n",
    "y=df['subreddit']\n",
    "\n",
    "# Define training and testing sets.\n",
    "X_train, X_test, y_train, y_test = train_test_split(X,\n",
    "                                                    y,\n",
    "                                                    stratify=y,\n",
    "                                                    random_state=42)"
   ]
  },
  {
   "cell_type": "code",
   "execution_count": 6,
   "id": "yE1SsXN5Jfcj",
   "metadata": {
    "id": "yE1SsXN5Jfcj"
   },
   "outputs": [],
   "source": [
    "# Instantiate CountVectorizer \n",
    "cvec= CountVectorizer()\n",
    "\n",
    "# vectorize train and testing predictor sets \n",
    "Xcvec_train= cvec.fit_transform(X_train)\n",
    "Xcvec_test= cvec.transform(X_test)"
   ]
  },
  {
   "cell_type": "code",
   "execution_count": 7,
   "id": "dasi8M9hJzhB",
   "metadata": {
    "colab": {
     "base_uri": "https://localhost:8080/"
    },
    "id": "dasi8M9hJzhB",
    "outputId": "ced128a4-8e9a-4925-cd6c-a5d835b01778"
   },
   "outputs": [
    {
     "data": {
      "text/plain": [
       "DummyClassifier(random_state=42, strategy='uniform')"
      ]
     },
     "execution_count": 7,
     "metadata": {
      "tags": []
     },
     "output_type": "execute_result"
    }
   ],
   "source": [
    "# instantiate dummy classier to randomly guess \n",
    "dummy = DummyClassifier(strategy='uniform',random_state=42)\n",
    "\n",
    "# fit dummy model \n",
    "dummy.fit(Xcvec_train,y_train)"
   ]
  },
  {
   "cell_type": "code",
   "execution_count": 10,
   "id": "1du0Pgu7BT8g",
   "metadata": {
    "id": "1du0Pgu7BT8g"
   },
   "outputs": [],
   "source": [
    "# helper function \n",
    "def model_eval(model):\n",
    "  'return accuracy and weighted F1 score for given model on training and test sets'\n",
    "  met = {'Training Accur Score':sklearn.metrics.accuracy_score(y_train,model.predict(X_train)),\n",
    "         'Test Accur Score':sklearn.metrics.accuracy_score(y_test,model.predict(X_test)),\n",
    "         'Training F1':sklearn.metrics.f1_score(y_train,model.predict(X_train),average='weighted'),\n",
    "         'Test F1':sklearn.metrics.f1_score(y_test,model.predict(X_test),average='weighted') }\n",
    "  return met       "
   ]
  },
  {
   "cell_type": "code",
   "execution_count": 11,
   "id": "gNt8I8NoCV-l",
   "metadata": {
    "colab": {
     "base_uri": "https://localhost:8080/"
    },
    "id": "gNt8I8NoCV-l",
    "outputId": "0d52398b-ced4-46ed-d72a-c07761db4906"
   },
   "outputs": [
    {
     "data": {
      "text/plain": [
       "{'Training Accur Score': 0.4994662193076102,\n",
       " 'Test Accur Score': 0.5121225983531564,\n",
       " 'Training F1': 0.5007761425971449,\n",
       " 'Test F1': 0.5133863949830523}"
      ]
     },
     "execution_count": 11,
     "metadata": {
      "tags": []
     },
     "output_type": "execute_result"
    }
   ],
   "source": [
    "model_eval(dummy)"
   ]
  },
  {
   "cell_type": "markdown",
   "id": "DX7BBnDzEen0",
   "metadata": {
    "id": "DX7BBnDzEen0"
   },
   "source": [
    "The dummy classification model gives us 50% accuracy and F1 score for both testing and training sets. \n",
    "\n",
    "This is not surprising considering it is guessing at random which class to label each observation. \n",
    "\n",
    "If our models are not able to perform better then these baseline metrics then it is not worth trying to build a model to classify posts.  "
   ]
  },
  {
   "cell_type": "markdown",
   "id": "555f0418-fff0-4f37-84ce-bab1429d785a",
   "metadata": {
    "id": "555f0418-fff0-4f37-84ce-bab1429d785a"
   },
   "source": [
    "# Multinomial Naive Bayes \n",
    "\n",
    "A multinomial naive bayes classifier is a probabilistic model that assumes independece between the predictors. \n",
    "  - For each observation it generates a probability distribution to predict the likely class based on previous observations. \n",
    "  - When working with text data the assumption of independence is generally violated because words in a sentence are usually related and not independent of other words in the sentence. \n",
    "  - These models usually perform well on text data even though the independence assumption is almost always violated. \n",
    "  - This model requires features to have positive values. Since we are using a bag-of-words vectorizer this requirement will be satisfied. \n",
    "\n",
    "\n",
    "## Default Hyperparamters "
   ]
  },
  {
   "cell_type": "code",
   "execution_count": 74,
   "id": "_wDM6nT4OYYG",
   "metadata": {
    "colab": {
     "base_uri": "https://localhost:8080/"
    },
    "id": "_wDM6nT4OYYG",
    "outputId": "f7fed283-76dd-4d0f-f475-21b33215d437"
   },
   "outputs": [
    {
     "data": {
      "text/plain": [
       "Pipeline(steps=[('cvec', CountVectorizer()), ('nb', MultinomialNB())])"
      ]
     },
     "execution_count": 74,
     "metadata": {
      "tags": []
     },
     "output_type": "execute_result"
    }
   ],
   "source": [
    "# Default hyperparamters \n",
    "\n",
    "#instantiate pipeline \n",
    "cvec_pipe= Pipeline([\n",
    "                     ('cvec',CountVectorizer()),\n",
    "                     ('nb',MultinomialNB())\n",
    "])\n",
    "# fit pipeline with default hyperparamters  \n",
    "cvec_pipe.fit(X_train,y_train)                     "
   ]
  },
  {
   "cell_type": "code",
   "execution_count": 73,
   "id": "K5ixdHe-Om2q",
   "metadata": {
    "colab": {
     "base_uri": "https://localhost:8080/"
    },
    "id": "K5ixdHe-Om2q",
    "outputId": "12764947-1974-4dc9-d30d-7909234b0ca1"
   },
   "outputs": [
    {
     "data": {
      "text/plain": [
       "{'Training Accur Score': 0.917874027756596,\n",
       " 'Test Accur Score': 0.8085544373284538,\n",
       " 'Training F1': 0.9179721607718556,\n",
       " 'Test F1': 0.8087578658456591}"
      ]
     },
     "execution_count": 73,
     "metadata": {
      "tags": []
     },
     "output_type": "execute_result"
    }
   ],
   "source": [
    "model_eval(cvec_pipe)"
   ]
  },
  {
   "cell_type": "markdown",
   "id": "PsNhk_IEO0EK",
   "metadata": {
    "id": "PsNhk_IEO0EK"
   },
   "source": [
    "- With default hyperparamters we get high test accuracy (and F1 score) of 91 on our training set. \n",
    "- However, on the test sets the model did not perform as well scoring only about 0.80 \n",
    "  - This suggests that this model is overfit. \n",
    "- To try and reduce the overfitting of our model we can tune the hyperparamters on both the transformer , CountVectorizer, and the estimator, multinomial naive bayes.   \n",
    "\n",
    "## Hyperparamter Tuning\n",
    "\n",
    "### CountVectorizer"
   ]
  },
  {
   "cell_type": "code",
   "execution_count": 12,
   "id": "W0mI9s4bNRTH",
   "metadata": {
    "id": "W0mI9s4bNRTH"
   },
   "outputs": [],
   "source": [
    "# helper function\n",
    "def cv_eval(model,param):\n",
    "  '''returns dataframe with cv_results for given param sorted by mean_test_f1_weight'''  \n",
    "  result= pd.DataFrame(model.cv_results_)[['mean_test_accuracy','mean_test_f1_weighted',param]].sort_values(by='mean_test_f1_weighted',ascending=False)\n",
    "  return result.dropna().reset_index(drop=True)"
   ]
  },
  {
   "cell_type": "code",
   "execution_count": 31,
   "id": "XYxz43zNIykE",
   "metadata": {
    "id": "XYxz43zNIykE"
   },
   "outputs": [],
   "source": [
    "# helper function \n",
    "def gs_eval(model,params):\n",
    "  '''for grid search returns cv results for params sorted by F1 score'''\n",
    "  mets = pd.DataFrame(model.cv_results_)[['mean_test_accuracy','mean_test_f1_weighted']]\n",
    "  par_list = [f\"param_{par}\" for par in params]\n",
    "  pars= pd.DataFrame(model.cv_results_)[par_list]\n",
    "  return pd.concat([mets,pars],axis=1).sort_values(by='mean_test_f1_weighted',ascending=False)"
   ]
  },
  {
   "cell_type": "markdown",
   "id": "XsZnbOIXHWtz",
   "metadata": {
    "id": "XsZnbOIXHWtz"
   },
   "source": [
    "Grid Search over lowercase, stop words, ngram_range to see which combination of these hyperparamters leads to the best results. "
   ]
  },
  {
   "cell_type": "code",
   "execution_count": 24,
   "id": "Sh_QHGokH5e1",
   "metadata": {
    "colab": {
     "base_uri": "https://localhost:8080/"
    },
    "id": "Sh_QHGokH5e1",
    "outputId": "ab28df8e-4a76-467f-af00-57ec506e3000"
   },
   "outputs": [
    {
     "name": "stdout",
     "output_type": "stream",
     "text": [
      "Fitting 3 folds for each of 16 candidates, totalling 48 fits\n"
     ]
    },
    {
     "data": {
      "text/plain": [
       "GridSearchCV(cv=3,\n",
       "             estimator=Pipeline(steps=[('cvec', CountVectorizer()),\n",
       "                                       ('nb', MultinomialNB())]),\n",
       "             n_jobs=-1,\n",
       "             param_grid={'cvec__lowercase': [True, False],\n",
       "                         'cvec__ngram_range': [(1, 1), (1, 2), (2, 2), (1, 3)],\n",
       "                         'cvec__stop_words': ['english', None]},\n",
       "             refit=False, scoring=['accuracy', 'f1_weighted'], verbose=1)"
      ]
     },
     "execution_count": 24,
     "metadata": {
      "tags": []
     },
     "output_type": "execute_result"
    }
   ],
   "source": [
    "# tuning countvectorizer parameters \n",
    "\n",
    "#instantiate pipeline \n",
    "cvec_pipe= Pipeline([\n",
    "                     ('cvec',CountVectorizer()),\n",
    "                     ('nb',MultinomialNB())\n",
    "])\n",
    "#parameters for gridsearch \n",
    "cvec_params = {\n",
    "    'cvec__lowercase': [True, False],\n",
    "    'cvec__stop_words': ['english',None],\n",
    "    'cvec__ngram_range':[(1,1),(1,2),(2,2),(1,3)]\n",
    "\n",
    "    \n",
    "}\n",
    "# instantiate grid search\n",
    "cvec_gs = GridSearchCV(cvec_pipe,cvec_params,cv=3,n_jobs=-1,scoring=metrics,refit=False,verbose=1)\n",
    "# fit gridsearch \n",
    "cvec_gs.fit(X_train,y_train)"
   ]
  },
  {
   "cell_type": "code",
   "execution_count": 33,
   "id": "9y7E7GMbIR-_",
   "metadata": {
    "colab": {
     "base_uri": "https://localhost:8080/",
     "height": 203
    },
    "id": "9y7E7GMbIR-_",
    "outputId": "055f0645-d0a3-41aa-e82a-b576e82d428e"
   },
   "outputs": [
    {
     "data": {
      "text/html": [
       "<div>\n",
       "<style scoped>\n",
       "    .dataframe tbody tr th:only-of-type {\n",
       "        vertical-align: middle;\n",
       "    }\n",
       "\n",
       "    .dataframe tbody tr th {\n",
       "        vertical-align: top;\n",
       "    }\n",
       "\n",
       "    .dataframe thead th {\n",
       "        text-align: right;\n",
       "    }\n",
       "</style>\n",
       "<table border=\"1\" class=\"dataframe\">\n",
       "  <thead>\n",
       "    <tr style=\"text-align: right;\">\n",
       "      <th></th>\n",
       "      <th>mean_test_accuracy</th>\n",
       "      <th>mean_test_f1_weighted</th>\n",
       "      <th>param_cvec__lowercase</th>\n",
       "      <th>param_cvec__stop_words</th>\n",
       "      <th>param_cvec__ngram_range</th>\n",
       "    </tr>\n",
       "  </thead>\n",
       "  <tbody>\n",
       "    <tr>\n",
       "      <th>15</th>\n",
       "      <td>0.875248</td>\n",
       "      <td>0.875572</td>\n",
       "      <td>False</td>\n",
       "      <td>None</td>\n",
       "      <td>(1, 3)</td>\n",
       "    </tr>\n",
       "    <tr>\n",
       "      <th>11</th>\n",
       "      <td>0.874257</td>\n",
       "      <td>0.874583</td>\n",
       "      <td>False</td>\n",
       "      <td>None</td>\n",
       "      <td>(1, 2)</td>\n",
       "    </tr>\n",
       "    <tr>\n",
       "      <th>9</th>\n",
       "      <td>0.868843</td>\n",
       "      <td>0.869176</td>\n",
       "      <td>False</td>\n",
       "      <td>None</td>\n",
       "      <td>(1, 1)</td>\n",
       "    </tr>\n",
       "    <tr>\n",
       "      <th>14</th>\n",
       "      <td>0.856947</td>\n",
       "      <td>0.857159</td>\n",
       "      <td>False</td>\n",
       "      <td>english</td>\n",
       "      <td>(1, 3)</td>\n",
       "    </tr>\n",
       "    <tr>\n",
       "      <th>10</th>\n",
       "      <td>0.855803</td>\n",
       "      <td>0.856011</td>\n",
       "      <td>False</td>\n",
       "      <td>english</td>\n",
       "      <td>(1, 2)</td>\n",
       "    </tr>\n",
       "  </tbody>\n",
       "</table>\n",
       "</div>"
      ],
      "text/plain": [
       "    mean_test_accuracy  mean_test_f1_weighted param_cvec__lowercase  \\\n",
       "15            0.875248               0.875572                 False   \n",
       "11            0.874257               0.874583                 False   \n",
       "9             0.868843               0.869176                 False   \n",
       "14            0.856947               0.857159                 False   \n",
       "10            0.855803               0.856011                 False   \n",
       "\n",
       "   param_cvec__stop_words param_cvec__ngram_range  \n",
       "15                   None                  (1, 3)  \n",
       "11                   None                  (1, 2)  \n",
       "9                    None                  (1, 1)  \n",
       "14                english                  (1, 3)  \n",
       "10                english                  (1, 2)  "
      ]
     },
     "execution_count": 33,
     "metadata": {
      "tags": []
     },
     "output_type": "execute_result"
    }
   ],
   "source": [
    "# see which values lead had best metric scores \n",
    "gs_eval(cvec_gs,['cvec__lowercase','cvec__stop_words','cvec__ngram_range']).head"
   ]
  },
  {
   "cell_type": "markdown",
   "id": "ohEC6NWOzgN4",
   "metadata": {
    "id": "ohEC6NWOzgN4"
   },
   "source": [
    "Best hyperparamters based on our gridsearch: \n",
    "\n",
    "cvec__lowercase: False \n",
    "  - When tokenizing if each word is not transformed to lowercase our model performs better. This suggests that there is a difference in capitalizations between r/theonion and r/nottheonion\n",
    "\n",
    "cvec__stop_words: None\n",
    "  - If common stop words are not removed from our features our model performs better. This suggests that there is a difference in the number of stop words between the subreddits. \n",
    "\n",
    "cvec__ngram_range: (1,3) \n",
    "  - If each title is broken into unigrams, bigrams, and trigrams our model performs better. \n",
    "  - This suggests that groups of words, length 1/2/3, perform better then just looking at each word seperately. Considering that titles of posts on both subreddits are not very long it is not surprising that 2 or 3 word combinations provide more information then each word indiviually. \n",
    "  - Since the value of (1,3) was at the top threshold tested we will test a few values higher to see if indeen (1,3) is optimal or larger values perform better.  \n"
   ]
  },
  {
   "cell_type": "code",
   "execution_count": 36,
   "id": "_2aC90OJzfOe",
   "metadata": {
    "colab": {
     "base_uri": "https://localhost:8080/",
     "height": 220
    },
    "id": "_2aC90OJzfOe",
    "outputId": "f6fcc273-c6d6-4294-b2a8-7ceafb3ac42e"
   },
   "outputs": [
    {
     "name": "stdout",
     "output_type": "stream",
     "text": [
      "Fitting 3 folds for each of 16 candidates, totalling 48 fits\n"
     ]
    },
    {
     "data": {
      "text/html": [
       "<div>\n",
       "<style scoped>\n",
       "    .dataframe tbody tr th:only-of-type {\n",
       "        vertical-align: middle;\n",
       "    }\n",
       "\n",
       "    .dataframe tbody tr th {\n",
       "        vertical-align: top;\n",
       "    }\n",
       "\n",
       "    .dataframe thead th {\n",
       "        text-align: right;\n",
       "    }\n",
       "</style>\n",
       "<table border=\"1\" class=\"dataframe\">\n",
       "  <thead>\n",
       "    <tr style=\"text-align: right;\">\n",
       "      <th></th>\n",
       "      <th>mean_test_accuracy</th>\n",
       "      <th>mean_test_f1_weighted</th>\n",
       "      <th>param_cvec__ngram_range</th>\n",
       "    </tr>\n",
       "  </thead>\n",
       "  <tbody>\n",
       "    <tr>\n",
       "      <th>15</th>\n",
       "      <td>0.875248</td>\n",
       "      <td>0.875572</td>\n",
       "      <td>(1, 3)</td>\n",
       "    </tr>\n",
       "    <tr>\n",
       "      <th>11</th>\n",
       "      <td>0.874257</td>\n",
       "      <td>0.874583</td>\n",
       "      <td>(1, 2)</td>\n",
       "    </tr>\n",
       "    <tr>\n",
       "      <th>9</th>\n",
       "      <td>0.868843</td>\n",
       "      <td>0.869176</td>\n",
       "      <td>(1, 1)</td>\n",
       "    </tr>\n",
       "    <tr>\n",
       "      <th>14</th>\n",
       "      <td>0.856947</td>\n",
       "      <td>0.857159</td>\n",
       "      <td>(1, 3)</td>\n",
       "    </tr>\n",
       "    <tr>\n",
       "      <th>10</th>\n",
       "      <td>0.855803</td>\n",
       "      <td>0.856011</td>\n",
       "      <td>(1, 2)</td>\n",
       "    </tr>\n",
       "  </tbody>\n",
       "</table>\n",
       "</div>"
      ],
      "text/plain": [
       "    mean_test_accuracy  mean_test_f1_weighted param_cvec__ngram_range\n",
       "15            0.875248               0.875572                  (1, 3)\n",
       "11            0.874257               0.874583                  (1, 2)\n",
       "9             0.868843               0.869176                  (1, 1)\n",
       "14            0.856947               0.857159                  (1, 3)\n",
       "10            0.855803               0.856011                  (1, 2)"
      ]
     },
     "execution_count": 36,
     "metadata": {
      "tags": []
     },
     "output_type": "execute_result"
    }
   ],
   "source": [
    "# Check higher ngram_ranges \n",
    "\n",
    "#instantiate pipeline \n",
    "cvec_pipe= Pipeline([\n",
    "                     ('cvec',CountVectorizer()),\n",
    "                     ('nb',MultinomialNB())\n",
    "])\n",
    "#parameters for gridsearch based on previous search \n",
    "cvec_params2 = {\n",
    "    'cvec__lowercase': [False], \n",
    "    'cvec__stop_words': [None], \n",
    "    'cvec__ngram_range': [(1,3),(2,3),(3,3),(4,1)]   # trying higher ranges \n",
    "}\n",
    "\n",
    "# instantiate grid search \n",
    "cvec_gs2 = GridSearchCV(cvec_pipe,cvec_params,cv=3,n_jobs=-1,scoring=metrics,refit=False,verbose=1)\n",
    "#fit grid search\n",
    "cvec_gs2.fit(X_train,y_train)\n",
    "\n",
    "# see results\n",
    "gs_eval(cvec_gs2,['cvec__ngram_range']).head()"
   ]
  },
  {
   "cell_type": "markdown",
   "id": "hMPcJ58q1O2e",
   "metadata": {
    "id": "hMPcJ58q1O2e"
   },
   "source": [
    "Based on our search we see that an ngram range of (1,3) is indeed the optimal value for this hyperparamter based on our evaluation metrics. \n",
    "\n",
    "\n",
    "\n",
    "Next: \n",
    "\n",
    "min_df gives minimum frequency of each word within text to have in order for it to be included in vocabulary. \n",
    "- The default in sklearn is to include all words that occur at least once.\n",
    "-  If we are more strict and require a certain threshold to be met before adding features to the model this could improve performance by not looking at words that only show up once. \n",
    "  - This will give more weight to words that occur more frequently. \n",
    "\n"
   ]
  },
  {
   "cell_type": "code",
   "execution_count": 51,
   "id": "YLqpNcPZ1L4E",
   "metadata": {
    "colab": {
     "base_uri": "https://localhost:8080/",
     "height": 845
    },
    "id": "YLqpNcPZ1L4E",
    "outputId": "60c33ba7-f5e6-45c2-849e-d07cc4d7da42"
   },
   "outputs": [
    {
     "name": "stdout",
     "output_type": "stream",
     "text": [
      "Fitting 3 folds for each of 100 candidates, totalling 300 fits\n"
     ]
    },
    {
     "name": "stderr",
     "output_type": "stream",
     "text": [
      "/home/tanveer/anaconda3/lib/python3.8/site-packages/sklearn/model_selection/_search.py:922: UserWarning: One or more of the test scores are non-finite: [       nan        nan        nan        nan 0.59974445 0.59974445\n",
      " 0.81744669        nan        nan        nan 0.86533462        nan\n",
      "        nan        nan        nan        nan        nan        nan\n",
      "        nan        nan        nan 0.69765111        nan        nan\n",
      "        nan        nan        nan        nan        nan 0.8198107\n",
      "        nan 0.55109044 0.81744669        nan        nan        nan\n",
      "        nan 0.78465726        nan        nan 0.71633485        nan\n",
      " 0.84070446        nan        nan        nan        nan        nan\n",
      "        nan        nan        nan        nan        nan        nan\n",
      "        nan        nan 0.7858772         nan 0.82064956        nan\n",
      "        nan        nan        nan        nan        nan        nan\n",
      " 0.69765111        nan 0.8011283         nan        nan        nan\n",
      " 0.87562903        nan        nan        nan        nan 0.8011283\n",
      "        nan 0.7631534         nan        nan        nan 0.81744669\n",
      "        nan        nan        nan        nan        nan        nan\n",
      " 0.73913144        nan        nan        nan        nan        nan\n",
      "        nan        nan 0.85740389 0.78412344]\n",
      "  warnings.warn(\n",
      "/home/tanveer/anaconda3/lib/python3.8/site-packages/sklearn/model_selection/_search.py:922: UserWarning: One or more of the test scores are non-finite: [       nan        nan        nan        nan 0.48107903 0.48107903\n",
      " 0.81371961        nan        nan        nan 0.86524461        nan\n",
      "        nan        nan        nan        nan        nan        nan\n",
      "        nan        nan        nan 0.66227807        nan        nan\n",
      "        nan        nan        nan        nan        nan 0.81622251\n",
      "        nan 0.39159635 0.81371961        nan        nan        nan\n",
      "        nan 0.77658324        nan        nan 0.68746895        nan\n",
      " 0.83920045        nan        nan        nan        nan        nan\n",
      "        nan        nan        nan        nan        nan        nan\n",
      "        nan        nan 0.77755548        nan 0.81718943        nan\n",
      "        nan        nan        nan        nan        nan        nan\n",
      " 0.66227807        nan 0.79550723        nan        nan        nan\n",
      " 0.87584537        nan        nan        nan        nan 0.79550723\n",
      "        nan 0.74857438        nan        nan        nan 0.81371961\n",
      "        nan        nan        nan        nan        nan        nan\n",
      " 0.71703659        nan        nan        nan        nan        nan\n",
      "        nan        nan 0.85706541 0.7761078 ]\n",
      "  warnings.warn(\n"
     ]
    },
    {
     "data": {
      "text/html": [
       "<div>\n",
       "<style scoped>\n",
       "    .dataframe tbody tr th:only-of-type {\n",
       "        vertical-align: middle;\n",
       "    }\n",
       "\n",
       "    .dataframe tbody tr th {\n",
       "        vertical-align: top;\n",
       "    }\n",
       "\n",
       "    .dataframe thead th {\n",
       "        text-align: right;\n",
       "    }\n",
       "</style>\n",
       "<table border=\"1\" class=\"dataframe\">\n",
       "  <thead>\n",
       "    <tr style=\"text-align: right;\">\n",
       "      <th></th>\n",
       "      <th>mean_test_accuracy</th>\n",
       "      <th>mean_test_f1_weighted</th>\n",
       "      <th>param_cvec__min_df</th>\n",
       "    </tr>\n",
       "  </thead>\n",
       "  <tbody>\n",
       "    <tr>\n",
       "      <th>72</th>\n",
       "      <td>0.875629</td>\n",
       "      <td>0.875845</td>\n",
       "      <td>0.005522</td>\n",
       "    </tr>\n",
       "    <tr>\n",
       "      <th>10</th>\n",
       "      <td>0.865335</td>\n",
       "      <td>0.865245</td>\n",
       "      <td>0.020584</td>\n",
       "    </tr>\n",
       "    <tr>\n",
       "      <th>98</th>\n",
       "      <td>0.857404</td>\n",
       "      <td>0.857065</td>\n",
       "      <td>0.025419</td>\n",
       "    </tr>\n",
       "    <tr>\n",
       "      <th>42</th>\n",
       "      <td>0.840704</td>\n",
       "      <td>0.839200</td>\n",
       "      <td>0.034389</td>\n",
       "    </tr>\n",
       "    <tr>\n",
       "      <th>58</th>\n",
       "      <td>0.820650</td>\n",
       "      <td>0.817189</td>\n",
       "      <td>0.045227</td>\n",
       "    </tr>\n",
       "  </tbody>\n",
       "</table>\n",
       "</div>"
      ],
      "text/plain": [
       "    mean_test_accuracy  mean_test_f1_weighted param_cvec__min_df\n",
       "72            0.875629               0.875845           0.005522\n",
       "10            0.865335               0.865245           0.020584\n",
       "98            0.857404               0.857065           0.025419\n",
       "42            0.840704               0.839200           0.034389\n",
       "58            0.820650               0.817189           0.045227"
      ]
     },
     "execution_count": 51,
     "metadata": {
      "tags": []
     },
     "output_type": "execute_result"
    }
   ],
   "source": [
    "# Tune cvec_min_df \n",
    "\n",
    "#instantiate pipeline \n",
    "cvec_pipe= Pipeline([\n",
    "                     ('cvec',CountVectorizer()), #lowercase=False,stop_words=None,ngram_range=(1,3)\n",
    "                    ('nb',MultinomialNB())\n",
    "])\n",
    "#parameters for Random Search \n",
    "cvec_params3 = {\n",
    "    'cvec__lowercase': [False], \n",
    "    'cvec__stop_words': [None],\n",
    "    'cvec__ngram_range': [(1,3)],\n",
    "    'cvec__min_df': uniform(0,1) # look at values between 0 and 1 \n",
    "\n",
    "    \n",
    "}\n",
    "# instantiate randomized search trying 100 values between 0 and 1 for min_df \n",
    "cvec_gs3 = RandomizedSearchCV(cvec_pipe,cvec_params3,cv=3,n_jobs=-1,scoring=metrics,refit=False,verbose=1,random_state=42,\n",
    "                              n_iter=100)\n",
    "#fit randomized search \n",
    "cvec_gs3.fit(X_train,y_train)\n",
    "# check results\n",
    "gs_eval(cvec_gs3,['cvec__min_df']).head()"
   ]
  },
  {
   "cell_type": "code",
   "execution_count": 53,
   "id": "kugrhD597gZY",
   "metadata": {
    "colab": {
     "base_uri": "https://localhost:8080/",
     "height": 284
    },
    "id": "kugrhD597gZY",
    "outputId": "a00eb975-47da-4318-9f88-307786c0acaf"
   },
   "outputs": [
    {
     "data": {
      "image/png": "[encoded data removed]",
      "text/plain": [
       "<Figure size 432x288 with 1 Axes>"
      ]
     },
     "metadata": {
      "needs_background": "light",
      "tags": []
     },
     "output_type": "display_data"
    }
   ],
   "source": [
    "# graph values of min_df vs F1 score \n",
    "graph_cv_results(cvec_gs3,'cvec__min_df')"
   ]
  },
  {
   "cell_type": "markdown",
   "id": "wzVsmtHP73W-",
   "metadata": {
    "id": "wzVsmtHP73W-"
   },
   "source": [
    "cvec__min_df\n",
    "  - min_df and F1 appear to be inversely related. As min_df decreases the F1 score increases. \n",
    "    - This suggests that words with low frequency of occurence in our sample set have a large impact on the model. \n",
    "    - The highest value of F1 occurs between 0 and 0.025 \n",
    "      - Since it appears to be inversely related if we look at even smaller values of min_df does that increase F1 score? "
   ]
  },
  {
   "cell_type": "code",
   "execution_count": 54,
   "id": "Rtvafe8171MT",
   "metadata": {
    "colab": {
     "base_uri": "https://localhost:8080/",
     "height": 297
    },
    "id": "Rtvafe8171MT",
    "outputId": "2437f384-d4e7-487b-ce84-961cbff3c096"
   },
   "outputs": [
    {
     "name": "stdout",
     "output_type": "stream",
     "text": [
      "Fitting 3 folds for each of 100 candidates, totalling 300 fits\n"
     ]
    },
    {
     "data": {
      "image/png": "[encoded data removed]",
      "text/plain": [
       "<Figure size 432x288 with 1 Axes>"
      ]
     },
     "metadata": {
      "needs_background": "light",
      "tags": []
     },
     "output_type": "display_data"
    }
   ],
   "source": [
    "# Tune cvec_min_df with values closer to 0 \n",
    "\n",
    "#instantiate pipeline \n",
    "cvec_pipe= Pipeline([\n",
    "                     ('cvec',CountVectorizer()), #lowercase=False,stop_words=None,ngram_range=(1,3)\n",
    "                    ('nb',MultinomialNB())\n",
    "])\n",
    "#parameters for Random Search \n",
    "cvec_params3 = {\n",
    "    'cvec__lowercase': [False], \n",
    "    'cvec__stop_words': [None], \n",
    "    'cvec__ngram_range': [(1,3)],  \n",
    "    'cvec__min_df': uniform(0,0.1) # look at values between 0 and 0.1 \n",
    "\n",
    "    \n",
    "}\n",
    "# instantiate randomized search trying 100 values between 0 and 0.1 for min_df \n",
    "cvec_gs3 = RandomizedSearchCV(cvec_pipe,cvec_params3,cv=3,n_jobs=-1,scoring=metrics,refit=False,verbose=1,random_state=42,\n",
    "                              n_iter=100)\n",
    "#perform search \n",
    "cvec_gs3.fit(X_train,y_train)\n",
    "#check results\n",
    "graph_cv_results(cvec_gs3,'cvec__min_df')"
   ]
  },
  {
   "cell_type": "markdown",
   "id": "LvxrhX5c41ZI",
   "metadata": {
    "id": "LvxrhX5c41ZI"
   },
   "source": [
    "cvec_min_df \n",
    "  - For values between 0 and 0.1 the trend continues. As min_df gets closer to 0 the F1 score increases. \n",
    "  - If we look at even smaller values of min_df does F1 score keep increasing? "
   ]
  },
  {
   "cell_type": "code",
   "execution_count": 55,
   "id": "IXGt_L6mPa1u",
   "metadata": {
    "colab": {
     "base_uri": "https://localhost:8080/",
     "height": 297
    },
    "id": "IXGt_L6mPa1u",
    "outputId": "203d3947-9c5c-4205-d4d0-7b2f3a7d3a4f"
   },
   "outputs": [
    {
     "name": "stdout",
     "output_type": "stream",
     "text": [
      "Fitting 3 folds for each of 100 candidates, totalling 300 fits\n"
     ]
    },
    {
     "data": {
      "image/png": "[encoded data removed]",
      "text/plain": [
       "<Figure size 432x288 with 1 Axes>"
      ]
     },
     "metadata": {
      "needs_background": "light",
      "tags": []
     },
     "output_type": "display_data"
    }
   ],
   "source": [
    "# Tune cvec_min_df between 0 and 0.02 \n",
    "\n",
    "#instantiate pipeline \n",
    "cvec_pipe= Pipeline([\n",
    "                     ('cvec',CountVectorizer()), \n",
    "                    ('nb',MultinomialNB())\n",
    "])\n",
    "#parameters for Random Search \n",
    "cvec_params3 = {\n",
    "    'cvec__lowercase': [False], \n",
    "    'cvec__stop_words': [None], \n",
    "    'cvec__ngram_range': [(1,3)],  \n",
    "    'cvec__min_df': uniform(0,0.02) # search between 0 and 0.02\n",
    "\n",
    "    \n",
    "}\n",
    "# instantiate randomized search trying 100 values between 0 and 0.02 for min_df \n",
    "cvec_gs3 = RandomizedSearchCV(cvec_pipe,cvec_params3,cv=3,n_jobs=-1,scoring=metrics,refit=False,verbose=1,random_state=42,\n",
    "                              n_iter=100)\n",
    "# perform search\n",
    "cvec_gs3.fit(X_train,y_train)\n",
    "#check results\n",
    "graph_cv_results(cvec_gs3,'cvec__min_df')"
   ]
  },
  {
   "cell_type": "markdown",
   "id": "DSyx_Kk5Dz9d",
   "metadata": {
    "id": "DSyx_Kk5Dz9d"
   },
   "source": [
    "cvec__min_df\n",
    "  - F1 score increases as min_df goes from 0 until somewhere between 0.0025 and 0.005 after which it begins to decrease. \n",
    "  - To locate the optimal value lets search between 0 and 0.006 "
   ]
  },
  {
   "cell_type": "code",
   "execution_count": 60,
   "id": "UycnMVcDDzFh",
   "metadata": {
    "colab": {
     "base_uri": "https://localhost:8080/",
     "height": 297
    },
    "id": "UycnMVcDDzFh",
    "outputId": "96b5bb9c-79d0-43ac-b027-5e52fdb4a5d1"
   },
   "outputs": [
    {
     "name": "stdout",
     "output_type": "stream",
     "text": [
      "Fitting 3 folds for each of 300 candidates, totalling 900 fits\n"
     ]
    },
    {
     "data": {
      "image/png": "[encoded data removed]",
      "text/plain": [
       "<Figure size 432x288 with 1 Axes>"
      ]
     },
     "metadata": {
      "needs_background": "light",
      "tags": []
     },
     "output_type": "display_data"
    }
   ],
   "source": [
    "# Tune cvec_min_df between 0 and 0.006 \n",
    "\n",
    "#instantiate pipeline \n",
    "cvec_pipe= Pipeline([\n",
    "                     ('cvec',CountVectorizer()), \n",
    "                    ('nb',MultinomialNB())\n",
    "])\n",
    "#parameters for Random Search \n",
    "cvec_params3 = {\n",
    "    'cvec__lowercase': [False], \n",
    "    'cvec__stop_words': [None], \n",
    "    'cvec__ngram_range': [(1,3)],   \n",
    "    'cvec__min_df': uniform(0,0.006) # between 0 and 0.006 \n",
    "\n",
    "    \n",
    "}\n",
    "# instantiate random search of 100 values between 0 and 0.006 \n",
    "cvec_gs3 = RandomizedSearchCV(cvec_pipe,cvec_params3,cv=3,n_jobs=-1,scoring=metrics,refit=False,verbose=1,random_state=42,\n",
    "                              n_iter=300)\n",
    "# perform search \n",
    "cvec_gs3.fit(X_train,y_train)\n",
    "#check results \n",
    "graph_cv_results(cvec_gs3,'cvec__min_df')"
   ]
  },
  {
   "cell_type": "code",
   "execution_count": 61,
   "id": "uIC95iiCEkzg",
   "metadata": {
    "colab": {
     "base_uri": "https://localhost:8080/",
     "height": 357
    },
    "id": "uIC95iiCEkzg",
    "outputId": "8cea7825-9523-44e1-d856-69012542edb6"
   },
   "outputs": [
    {
     "data": {
      "text/html": [
       "<div>\n",
       "<style scoped>\n",
       "    .dataframe tbody tr th:only-of-type {\n",
       "        vertical-align: middle;\n",
       "    }\n",
       "\n",
       "    .dataframe tbody tr th {\n",
       "        vertical-align: top;\n",
       "    }\n",
       "\n",
       "    .dataframe thead th {\n",
       "        text-align: right;\n",
       "    }\n",
       "</style>\n",
       "<table border=\"1\" class=\"dataframe\">\n",
       "  <thead>\n",
       "    <tr style=\"text-align: right;\">\n",
       "      <th></th>\n",
       "      <th>mean_test_accuracy</th>\n",
       "      <th>mean_test_f1_weighted</th>\n",
       "      <th>param_cvec__min_df</th>\n",
       "    </tr>\n",
       "  </thead>\n",
       "  <tbody>\n",
       "    <tr>\n",
       "      <th>106</th>\n",
       "      <td>0.878527</td>\n",
       "      <td>0.878796</td>\n",
       "      <td>0.002462</td>\n",
       "    </tr>\n",
       "    <tr>\n",
       "      <th>130</th>\n",
       "      <td>0.878527</td>\n",
       "      <td>0.878796</td>\n",
       "      <td>0.002504</td>\n",
       "    </tr>\n",
       "    <tr>\n",
       "      <th>195</th>\n",
       "      <td>0.878451</td>\n",
       "      <td>0.878726</td>\n",
       "      <td>0.002095</td>\n",
       "    </tr>\n",
       "    <tr>\n",
       "      <th>63</th>\n",
       "      <td>0.878451</td>\n",
       "      <td>0.878726</td>\n",
       "      <td>0.002141</td>\n",
       "    </tr>\n",
       "    <tr>\n",
       "      <th>268</th>\n",
       "      <td>0.878451</td>\n",
       "      <td>0.878726</td>\n",
       "      <td>0.002157</td>\n",
       "    </tr>\n",
       "    <tr>\n",
       "      <th>78</th>\n",
       "      <td>0.878451</td>\n",
       "      <td>0.878726</td>\n",
       "      <td>0.002151</td>\n",
       "    </tr>\n",
       "    <tr>\n",
       "      <th>293</th>\n",
       "      <td>0.878451</td>\n",
       "      <td>0.878726</td>\n",
       "      <td>0.002161</td>\n",
       "    </tr>\n",
       "    <tr>\n",
       "      <th>18</th>\n",
       "      <td>0.878146</td>\n",
       "      <td>0.878412</td>\n",
       "      <td>0.002592</td>\n",
       "    </tr>\n",
       "    <tr>\n",
       "      <th>125</th>\n",
       "      <td>0.878146</td>\n",
       "      <td>0.878412</td>\n",
       "      <td>0.002563</td>\n",
       "    </tr>\n",
       "    <tr>\n",
       "      <th>97</th>\n",
       "      <td>0.878146</td>\n",
       "      <td>0.878412</td>\n",
       "      <td>0.002565</td>\n",
       "    </tr>\n",
       "  </tbody>\n",
       "</table>\n",
       "</div>"
      ],
      "text/plain": [
       "     mean_test_accuracy  mean_test_f1_weighted param_cvec__min_df\n",
       "106            0.878527               0.878796           0.002462\n",
       "130            0.878527               0.878796           0.002504\n",
       "195            0.878451               0.878726           0.002095\n",
       "63             0.878451               0.878726           0.002141\n",
       "268            0.878451               0.878726           0.002157\n",
       "78             0.878451               0.878726           0.002151\n",
       "293            0.878451               0.878726           0.002161\n",
       "18             0.878146               0.878412           0.002592\n",
       "125            0.878146               0.878412           0.002563\n",
       "97             0.878146               0.878412           0.002565"
      ]
     },
     "execution_count": 61,
     "metadata": {
      "tags": []
     },
     "output_type": "execute_result"
    }
   ],
   "source": [
    "gs_eval(cvec_gs3,['cvec__min_df']).head(10)"
   ]
  },
  {
   "cell_type": "markdown",
   "id": "4Wlvazm3HEFv",
   "metadata": {
    "id": "4Wlvazm3HEFv"
   },
   "source": [
    "The mean f1 weighted score peaks in between 0.002 and 0.003 \n",
    "\n",
    "For our purposes we will use 0.0025 as a balanced middle point since a cluster of values around that seems to converge. \n",
    "\n",
    "A couple of points below 0.0025 have higher F1 score but not enough cluster of points to give us confidence in using that for our modeling purposes. \n",
    "\n",
    "Next we can try to tune the max_df hyperparamter in CountVectorizer transformer. \n",
    "  - Similar to min_df but this provide a maximum cutoff point to ignore words with frequency greater then the value of this hyperparamter\n",
    "  - The default in sklearn is not to have maximum cuttoff. \n",
    "  - If a word appears very commonly in both subreddits then it would not help much in classifying and only increase complexity of the model. \n"
   ]
  },
  {
   "cell_type": "code",
   "execution_count": 65,
   "id": "pBqJax70HDGI",
   "metadata": {
    "colab": {
     "base_uri": "https://localhost:8080/",
     "height": 297
    },
    "id": "pBqJax70HDGI",
    "outputId": "2e9f1ca9-8ebd-4ca9-b7a7-b0c37f3a8a8b"
   },
   "outputs": [
    {
     "name": "stdout",
     "output_type": "stream",
     "text": [
      "Fitting 3 folds for each of 100 candidates, totalling 300 fits\n"
     ]
    },
    {
     "data": {
      "image/png": "[encoded data removed]",
      "text/plain": [
       "<Figure size 432x288 with 1 Axes>"
      ]
     },
     "metadata": {
      "needs_background": "light",
      "tags": []
     },
     "output_type": "display_data"
    }
   ],
   "source": [
    "# Tune cvec_max_df \n",
    "\n",
    "#instantiate pipeline \n",
    "cvec_pipe= Pipeline([\n",
    "                     ('cvec',CountVectorizer()), #lowercase=False,stop_words=None,ngram_range=(1,3)\n",
    "                    ('nb',MultinomialNB())\n",
    "])\n",
    "#parameters for Random Search \n",
    "cvec_params4 = {\n",
    "    'cvec__lowercase': [False], \n",
    "    'cvec__stop_words': [None], \n",
    "    'cvec__ngram_range': [(1,3)],   \n",
    "    'cvec__min_df': [ 0.0025], \n",
    "    'cvec__max_df': uniform(0.01,1) # try values between 0.01 and 1 \n",
    "\n",
    "    \n",
    "}\n",
    "# instantiate random search trying 100 values between 0.01 and 1 \n",
    "cvec_gs4 = RandomizedSearchCV(cvec_pipe,cvec_params4,cv=3,n_jobs=-1,scoring=metrics,refit=False,verbose=1,random_state=42,\n",
    "                              n_iter=100)\n",
    "# perform search \n",
    "cvec_gs4.fit(X_train,y_train)\n",
    "# check results\n",
    "graph_cv_results(cvec_gs4,'cvec__max_df')"
   ]
  },
  {
   "cell_type": "markdown",
   "id": "1kpMiPgXKnTp",
   "metadata": {
    "id": "1kpMiPgXKnTp"
   },
   "source": [
    "From the graph we see that the F1 score peaks around 0.2 and stays consistent for all values greater then that. \n",
    "\n",
    "For our purposes we could use any value from 0.2 to 1 and have similar results in terms of our metrics so we will arbitrarily go with 0.3 for the purpose of our analysis. \n",
    "\n",
    "Next we will tune the alpha parameter for Multinomial Naive Bayes estimator. \n",
    "  - This is a smoothing paramter with 0 being no smoothing and increasing values indicating more smoothing performed. \n",
    "  - The default value in sklearn is 1 "
   ]
  },
  {
   "cell_type": "code",
   "execution_count": 67,
   "id": "DgYjfc5VKkpC",
   "metadata": {
    "colab": {
     "base_uri": "https://localhost:8080/",
     "height": 297
    },
    "id": "DgYjfc5VKkpC",
    "outputId": "5463ee40-39fe-4838-c56d-fba3cbf1367d"
   },
   "outputs": [
    {
     "name": "stdout",
     "output_type": "stream",
     "text": [
      "Fitting 3 folds for each of 100 candidates, totalling 300 fits\n"
     ]
    },
    {
     "data": {
      "image/png": "[encoded data removed]",
      "text/plain": [
       "<Figure size 432x288 with 1 Axes>"
      ]
     },
     "metadata": {
      "needs_background": "light",
      "tags": []
     },
     "output_type": "display_data"
    }
   ],
   "source": [
    "# Tune nb__alpha from 0.1 to 10 \n",
    "\n",
    "#instantiate pipeline \n",
    "cvec_pipe= Pipeline([\n",
    "                     ('cvec',CountVectorizer()), #lowercase=False,stop_words=None,ngram_range=(1,3)\n",
    "                    ('nb',MultinomialNB())\n",
    "])\n",
    "#parameters for Random Search \n",
    "cvec_params5 = {\n",
    "    'cvec__lowercase': [False], \n",
    "    'cvec__stop_words': [None],\n",
    "    'cvec__ngram_range': [(1,3)],  \n",
    "    'cvec__min_df': [ 0.0025], \n",
    "    'cvec__max_df': [0.3],\n",
    "    'nb__alpha': uniform(0.1,10) # try values between 0.1 and 10 \n",
    "\n",
    "    \n",
    "}\n",
    "# instantiate random search trying 100 values between 0.1 and 10 \n",
    "cvec_gs5 = RandomizedSearchCV(cvec_pipe,cvec_params5,cv=3,n_jobs=-1,scoring=metrics,refit=False,verbose=1,random_state=42,\n",
    "                              n_iter=100)\n",
    "# perform search\n",
    "cvec_gs5.fit(X_train,y_train)\n",
    "# check results \n",
    "graph_cv_results(cvec_gs5,'nb__alpha')"
   ]
  },
  {
   "cell_type": "markdown",
   "id": "suQEXiVXM_wX",
   "metadata": {
    "id": "suQEXiVXM_wX"
   },
   "source": [
    "nb__alpha\n",
    "  - As alpha increases so does the F1 score but not drastically \n",
    "  - To see how far this trend continues we can search over larger values of alpha to find the maximum F1 score "
   ]
  },
  {
   "cell_type": "code",
   "execution_count": 75,
   "id": "R7M0iUH3PDnt",
   "metadata": {
    "colab": {
     "base_uri": "https://localhost:8080/",
     "height": 297
    },
    "id": "R7M0iUH3PDnt",
    "outputId": "046965d0-15d1-46d9-a346-d35a21a8e8e1"
   },
   "outputs": [
    {
     "name": "stdout",
     "output_type": "stream",
     "text": [
      "Fitting 3 folds for each of 200 candidates, totalling 600 fits\n"
     ]
    },
    {
     "data": {
      "image/png": "[encoded data removed]",
      "text/plain": [
       "<Figure size 432x288 with 1 Axes>"
      ]
     },
     "metadata": {
      "needs_background": "light",
      "tags": []
     },
     "output_type": "display_data"
    }
   ],
   "source": [
    "# Tune nb__alpha going from 1 to 100 \n",
    "\n",
    "#instantiate pipeline \n",
    "cvec_pipe= Pipeline([\n",
    "                     ('cvec',CountVectorizer()), #lowercase=False,stop_words=None,ngram_range=(1,3)\n",
    "                    ('nb',MultinomialNB())\n",
    "])\n",
    "#parameters for Random Search \n",
    "cvec_params5 = {\n",
    "    'cvec__lowercase': [False], #[True, False],\n",
    "    'cvec__stop_words': [None], # ['english',None],\n",
    "    'cvec__ngram_range': [(1,3)],   # [(1,3),(2,3),(3,3),(4,1)]       # [(1,1),(1,2),(2,2),(1,3)]\n",
    "    'cvec__min_df': [ 0.0025], #uniform(0,0.006)\n",
    "    'cvec__max_df': [0.3], # uniform(0.01,1)\n",
    "    'nb__alpha': uniform(1,100)\n",
    "\n",
    "    \n",
    "}\n",
    "\n",
    "cvec_gs5 = RandomizedSearchCV(cvec_pipe,cvec_params5,cv=3,n_jobs=-1,scoring=metrics,refit=False,verbose=1,random_state=42,\n",
    "                              n_iter=200)\n",
    "cvec_gs5.fit(X_train,y_train)\n",
    "\n",
    "graph_cv_results(cvec_gs5,'nb__alpha')\n",
    "#gs_eval(cvec_gs3,['cvec__min_df']).head()"
   ]
  },
  {
   "cell_type": "markdown",
   "id": "z2P-bTxzQo1l",
   "metadata": {
    "id": "z2P-bTxzQo1l"
   },
   "source": [
    "The F1 score peaks at alpha values of around 20 "
   ]
  },
  {
   "cell_type": "markdown",
   "id": "ltPT9OgLmo_Z",
   "metadata": {
    "id": "ltPT9OgLmo_Z"
   },
   "source": [
    "#### Final Multinomial Naive Bayes \n",
    "\n",
    "Based on the hyperparamters from our tuning process we can build a final multinomial naive bayes model to see how it compares with our baseline model in terms of our evaluation metrics. "
   ]
  },
  {
   "cell_type": "code",
   "execution_count": 126,
   "id": "cREyLWQ7V6m8",
   "metadata": {
    "colab": {
     "base_uri": "https://localhost:8080/"
    },
    "id": "cREyLWQ7V6m8",
    "outputId": "27d17bf4-7e2b-4137-f413-91f5e002b020"
   },
   "outputs": [
    {
     "data": {
      "text/plain": [
       "{'Training Accur Score': 0.8816531950587159,\n",
       " 'Test Accur Score': 0.8888380603842635,\n",
       " 'Training F1': 0.8818947569457736,\n",
       " 'Test F1': 0.8890644220922252}"
      ]
     },
     "execution_count": 126,
     "metadata": {
      "tags": []
     },
     "output_type": "execute_result"
    }
   ],
   "source": [
    "# Final Naive Bayes Model based on optimal hyperparmaters \n",
    "\n",
    "\n",
    "# instantiate transformer \n",
    "vect =CountVectorizer(lowercase=False,stop_words= [None],ngram_range=(1,3),\n",
    "                                             max_df=0.3,min_df= 0.0025)\n",
    "# transform training and test sets \n",
    "X_nb_train= vect.fit_transform(X_train)\n",
    "X_nb_test= vect.transform(X_test)\n",
    "#instantiate estimator \n",
    "nb_final= MultinomialNB(alpha=20)\n",
    "# fit estimator \n",
    "nb_final.fit(X_nb_train,y_train)\n",
    "# check metrics\n",
    "result_metrics(nb_final_pipe)"
   ]
  },
  {
   "cell_type": "markdown",
   "id": "Z5uh54p_C-jS",
   "metadata": {
    "id": "Z5uh54p_C-jS"
   },
   "source": [
    "- Compared to the baseline model with 50% accuracy our model has about 88% accuracy and F1 score for both training and test sets. \n",
    "- The model is significantly better suggesting that it is possible to label submissions as fake or real news based on headline or title. \n",
    "- Compared to naive bayes model with default paramters or model is much less overfit suggesting that this model will generalize better to new data it has not seen.  "
   ]
  },
  {
   "cell_type": "code",
   "execution_count": 78,
   "id": "n0Lm9HgXU8Da",
   "metadata": {
    "id": "n0Lm9HgXU8Da"
   },
   "outputs": [],
   "source": [
    "# Source: https://stackoverflow.com/questions/29867367/sklearn-multinomial-nb-most-informative-features\n",
    "def show_most_informative_features(vectorizer, clf, n=20):\n",
    "  feature_names = vectorizer.get_feature_names()\n",
    "  coefs_with_fns = sorted(zip(clf.coef_[0], feature_names))\n",
    "  top = zip(coefs_with_fns[:n], coefs_with_fns[:-(n + 1):-1])\n",
    "  for (coef_1, fn_1), (coef_2, fn_2) in top:\n",
    "    print(\"\\t%.4f\\t%-15s\\t\\t%.4f\\t%-15s\" % (coef_1, fn_1, coef_2, fn_2))\n",
    "  return \n",
    "\n"
   ]
  },
  {
   "cell_type": "code",
   "execution_count": 127,
   "id": "8z3uDmSwGi_s",
   "metadata": {
    "colab": {
     "base_uri": "https://localhost:8080/"
    },
    "id": "8z3uDmSwGi_s",
    "outputId": "859abf71-c7fa-4525-93dc-d3f0d2100908"
   },
   "outputs": [
    {
     "name": "stdout",
     "output_type": "stream",
     "text": [
      "\t-7.9365\tad_1           \t\t-3.1122\tTo             \n",
      "\t-7.9365\tarrested after \t\t-3.5086\tOf             \n",
      "\t-7.9365\tboy            \t\t-3.6130\tThe            \n",
      "\t-7.9365\tcharged        \t\t-4.0488\tIn             \n",
      "\t-7.9365\tcourt          \t\t-4.2426\tFor            \n",
      "\t-7.9365\tdrug           \t\t-4.5640\tAnd            \n",
      "\t-7.9365\tfinds          \t\t-4.6481\tOn             \n",
      "\t-7.9365\tgame           \t\t-4.7236\tWith           \n",
      "\t-7.9365\thead           \t\t-4.8708\tYou            \n",
      "\t-7.9365\thigh           \t\t-4.8778\tThis           \n"
     ]
    },
    {
     "name": "stderr",
     "output_type": "stream",
     "text": [
      "/home/tanveer/anaconda3/lib/python3.8/site-packages/sklearn/utils/deprecation.py:101: FutureWarning: Attribute coef_ was deprecated in version 0.24 and will be removed in 1.1 (renaming of 0.26).\n",
      "  warnings.warn(msg, category=FutureWarning)\n"
     ]
    }
   ],
   "source": [
    "show_most_informative_features(vect,nb_final,10)"
   ]
  },
  {
   "cell_type": "markdown",
   "id": "8OThqF-8JhfR",
   "metadata": {
    "id": "8OThqF-8JhfR"
   },
   "source": [
    "- The top 10 important features for helping to classify r/theonion are all stop words. This might suggest that posts in r/theonion have a lot more stop words then r/nottheonion\n",
    "\n",
    "- The top features for r/nottheonion are not particularly surprising. \n",
    "  - \"arrested after\", \"charged\", \"court\", \"drug\" all indicate people getting in trouble with law which is not surprising for real news articles. "
   ]
  },
  {
   "cell_type": "markdown",
   "id": "mYqFcAIwPHcC",
   "metadata": {
    "id": "mYqFcAIwPHcC"
   },
   "source": [
    "# Tree Models\n",
    "\n",
    "To verify the results from the naive bayes model lets construct a tree based model to see if that is also able to help us classify posts as fake vs real news.  \n",
    "\n",
    "If we have multiple models that perform better then the baseline model. We can more confidently say that it is possible to label posts as fake vs real news based on the title. \n",
    "\n"
   ]
  },
  {
   "cell_type": "markdown",
   "id": "yHdI7DOywuIL",
   "metadata": {
    "id": "yHdI7DOywuIL"
   },
   "source": [
    "### Decision Tree Classifier with default params\n",
    "\n",
    "Similar to our approach with the naive bayes model, we will begin with the default hyperparamters provided by sklearn and try to optimize our model evaluation metrics. "
   ]
  },
  {
   "cell_type": "code",
   "execution_count": 85,
   "id": "TGeYKyirXRCI",
   "metadata": {
    "colab": {
     "base_uri": "https://localhost:8080/"
    },
    "id": "TGeYKyirXRCI",
    "outputId": "232a3846-c3e8-4a2a-8568-3f5e730007ae"
   },
   "outputs": [
    {
     "data": {
      "text/plain": [
       "Pipeline(steps=[('cvec', CountVectorizer()),\n",
       "                ('dt', DecisionTreeClassifier(random_state=42))])"
      ]
     },
     "execution_count": 85,
     "metadata": {
      "tags": []
     },
     "output_type": "execute_result"
    }
   ],
   "source": [
    "# default paramters for count vectorizer and decision tree classifier \n",
    "\n",
    "# intantiate pipeline \n",
    "dt_default_pipe= Pipeline([\n",
    "                     ('cvec',CountVectorizer()),\n",
    "                     ('dt',DecisionTreeClassifier(random_state=42))\n",
    "])\n",
    "#fit model \n",
    "dt_default_pipe.fit(X_train,y_train)"
   ]
  },
  {
   "cell_type": "code",
   "execution_count": 86,
   "id": "QrPMuOkNXkds",
   "metadata": {
    "colab": {
     "base_uri": "https://localhost:8080/"
    },
    "id": "QrPMuOkNXkds",
    "outputId": "ec204fae-5286-4112-89ad-190599fcd69d"
   },
   "outputs": [
    {
     "data": {
      "text/plain": [
       "{'Training Accur Score': 0.9998474912307458,\n",
       " 'Test Accur Score': 0.6935041171088746,\n",
       " 'Training F1': 0.9998474888253921,\n",
       " 'Test F1': 0.6936551101262959}"
      ]
     },
     "execution_count": 86,
     "metadata": {
      "tags": []
     },
     "output_type": "execute_result"
    }
   ],
   "source": [
    "# check metrics for decision tree with default parameters. \n",
    "model_eval(dt_default_pipe)"
   ]
  },
  {
   "cell_type": "markdown",
   "id": "_mlgRGbEXo8X",
   "metadata": {
    "id": "_mlgRGbEXo8X"
   },
   "source": [
    "- With default hyperparamters the decision tree is very good at predicting the training sets but performs much worse with the test data. \n",
    "  - This suggests that the model is very overfit. \n",
    "\n",
    "### Tuning Decision Tree\n",
    "\n",
    "We will begin the tuning process using the hyperparamters from count vectorizer previously discovered in the modeling process. "
   ]
  },
  {
   "cell_type": "code",
   "execution_count": 106,
   "id": "cP7of0doezYe",
   "metadata": {
    "colab": {
     "base_uri": "https://localhost:8080/"
    },
    "id": "cP7of0doezYe",
    "outputId": "772274cb-8358-46f6-c785-b7d9ad1b0641"
   },
   "outputs": [
    {
     "data": {
      "text/plain": [
       "{'Training Accur Score': 1.0,\n",
       " 'Test Accur Score': 0.863220494053065,\n",
       " 'Training F1': 1.0,\n",
       " 'Test F1': 0.8635475326081407}"
      ]
     },
     "execution_count": 106,
     "metadata": {
      "tags": []
     },
     "output_type": "execute_result"
    }
   ],
   "source": [
    "# top hyperparameters for count vectorizer \n",
    "dt_cvec_pipe= Pipeline([\n",
    "                     ('cvec',CountVectorizer(lowercase=False,stop_words= [None],ngram_range=(1,3))),\n",
    "                     ('dt',DecisionTreeClassifier(random_state=42))\n",
    "])\n",
    "\n",
    "dt_cvec_pipe.fit(X_train,y_train)\n",
    "model_eval(dt_cvec_pipe)"
   ]
  },
  {
   "cell_type": "markdown",
   "id": "v3XL7eRpfRxi",
   "metadata": {
    "id": "v3XL7eRpfRxi"
   },
   "source": [
    "- If words are not forced to be lowercase, stop words are not removed, and ngrams ranging from 1-3 are allowed the model gets about 16% increase in accuracy and F1 score \n",
    "\n",
    "- This is improvement from the default hyperparamters but the model is still overfit as the training set does better by about 14% \n",
    "\n",
    "- We can try tuning the hyperparameters of the decision tree to improve the fit of the model "
   ]
  },
  {
   "cell_type": "code",
   "execution_count": 109,
   "id": "o0o7pEVxffGo",
   "metadata": {
    "colab": {
     "base_uri": "https://localhost:8080/",
     "height": 189
    },
    "id": "o0o7pEVxffGo",
    "outputId": "df2d6961-f604-4ff4-9283-a54369d8dcec"
   },
   "outputs": [
    {
     "name": "stdout",
     "output_type": "stream",
     "text": [
      "Fitting 3 folds for each of 4 candidates, totalling 12 fits\n"
     ]
    },
    {
     "data": {
      "text/html": [
       "<div>\n",
       "<style scoped>\n",
       "    .dataframe tbody tr th:only-of-type {\n",
       "        vertical-align: middle;\n",
       "    }\n",
       "\n",
       "    .dataframe tbody tr th {\n",
       "        vertical-align: top;\n",
       "    }\n",
       "\n",
       "    .dataframe thead th {\n",
       "        text-align: right;\n",
       "    }\n",
       "</style>\n",
       "<table border=\"1\" class=\"dataframe\">\n",
       "  <thead>\n",
       "    <tr style=\"text-align: right;\">\n",
       "      <th></th>\n",
       "      <th>params</th>\n",
       "      <th>mean_test_accuracy</th>\n",
       "      <th>mean_test_f1_weighted</th>\n",
       "    </tr>\n",
       "  </thead>\n",
       "  <tbody>\n",
       "    <tr>\n",
       "      <th>0</th>\n",
       "      <td>{'dt__criterion': 'gini', 'dt__splitter': 'best'}</td>\n",
       "      <td>0.853591</td>\n",
       "      <td>0.853959</td>\n",
       "    </tr>\n",
       "    <tr>\n",
       "      <th>1</th>\n",
       "      <td>{'dt__criterion': 'gini', 'dt__splitter': 'random'}</td>\n",
       "      <td>0.852677</td>\n",
       "      <td>0.853030</td>\n",
       "    </tr>\n",
       "    <tr>\n",
       "      <th>2</th>\n",
       "      <td>{'dt__criterion': 'entropy', 'dt__splitter': 'best'}</td>\n",
       "      <td>0.848787</td>\n",
       "      <td>0.849143</td>\n",
       "    </tr>\n",
       "    <tr>\n",
       "      <th>3</th>\n",
       "      <td>{'dt__criterion': 'entropy', 'dt__splitter': 'random'}</td>\n",
       "      <td>0.848101</td>\n",
       "      <td>0.848466</td>\n",
       "    </tr>\n",
       "  </tbody>\n",
       "</table>\n",
       "</div>"
      ],
      "text/plain": [
       "                                                   params  mean_test_accuracy  \\\n",
       "0       {'dt__criterion': 'gini', 'dt__splitter': 'best'}            0.853591   \n",
       "1     {'dt__criterion': 'gini', 'dt__splitter': 'random'}            0.852677   \n",
       "2    {'dt__criterion': 'entropy', 'dt__splitter': 'best'}            0.848787   \n",
       "3  {'dt__criterion': 'entropy', 'dt__splitter': 'random'}            0.848101   \n",
       "\n",
       "   mean_test_f1_weighted  \n",
       "0               0.853959  \n",
       "1               0.853030  \n",
       "2               0.849143  \n",
       "3               0.848466  "
      ]
     },
     "execution_count": 109,
     "metadata": {
      "tags": []
     },
     "output_type": "execute_result"
    }
   ],
   "source": [
    "# tune dt criterion and splitter  \n",
    "\n",
    "# pipeline to model \n",
    "dt_cvec_pipe= Pipeline([\n",
    "                     ('cvec',CountVectorizer(lowercase=False,stop_words= [None],ngram_range=(1,3))),\n",
    "                     ('dt',DecisionTreeClassifier(random_state=42))\n",
    "])\n",
    "# params to test \n",
    "dt_cvec_params = {\n",
    "    'dt__criterion': ['gini', 'entropy'],\n",
    "    'dt__splitter':['best','random'],\n",
    "\n",
    "}\n",
    "\n",
    "#instantiate grid search over params \n",
    "dt_cvec_gs= GridSearchCV(dt_cvec_pipe,dt_cvec_params,scoring=metrics,n_jobs=-1,refit='f1_weighted',cv=3,verbose=1)\n",
    "# perform search\n",
    "dt_cvec_gs.fit(X_train,y_train)\n",
    "\n",
    "# check results \n",
    "pd.DataFrame(dt_cvec_gs.cv_results_)[['params','mean_test_accuracy','mean_test_f1_weighted']].sort_values(by='mean_test_f1_weighted',ascending=False).head(10)"
   ]
  },
  {
   "cell_type": "code",
   "execution_count": 110,
   "id": "bGNj5Ga-gk3F",
   "metadata": {
    "colab": {
     "base_uri": "https://localhost:8080/"
    },
    "id": "bGNj5Ga-gk3F",
    "outputId": "af275c0a-f8ed-4502-fd53-f2fcb5b32dbb"
   },
   "outputs": [
    {
     "data": {
      "text/plain": [
       "{'Training Accur Score': 1.0,\n",
       " 'Test Accur Score': 0.863220494053065,\n",
       " 'Training F1': 1.0,\n",
       " 'Test F1': 0.8635475326081407}"
      ]
     },
     "execution_count": 110,
     "metadata": {
      "tags": []
     },
     "output_type": "execute_result"
    }
   ],
   "source": [
    "model_eval(dt_cvec_gs)"
   ]
  },
  {
   "cell_type": "markdown",
   "id": "uJ-kExRehxHP",
   "metadata": {
    "id": "uJ-kExRehxHP"
   },
   "source": [
    "Tuning the criterion and splitter hyperparamters did not yield any difference in model performance. \n",
    "\n",
    "In order to reduce overfitting we can try reducing the number of features in our model. We can adjust this using the max_features paramter which has a default of none indicating no maximum value. "
   ]
  },
  {
   "cell_type": "code",
   "execution_count": 113,
   "id": "tCbDqaiPhwFu",
   "metadata": {
    "colab": {
     "base_uri": "https://localhost:8080/",
     "height": 189
    },
    "id": "tCbDqaiPhwFu",
    "outputId": "26389abc-f550-46fa-b9a9-a9693424a444"
   },
   "outputs": [
    {
     "name": "stdout",
     "output_type": "stream",
     "text": [
      "Fitting 3 folds for each of 4 candidates, totalling 12 fits\n"
     ]
    },
    {
     "data": {
      "text/html": [
       "<div>\n",
       "<style scoped>\n",
       "    .dataframe tbody tr th:only-of-type {\n",
       "        vertical-align: middle;\n",
       "    }\n",
       "\n",
       "    .dataframe tbody tr th {\n",
       "        vertical-align: top;\n",
       "    }\n",
       "\n",
       "    .dataframe thead th {\n",
       "        text-align: right;\n",
       "    }\n",
       "</style>\n",
       "<table border=\"1\" class=\"dataframe\">\n",
       "  <thead>\n",
       "    <tr style=\"text-align: right;\">\n",
       "      <th></th>\n",
       "      <th>params</th>\n",
       "      <th>mean_test_accuracy</th>\n",
       "      <th>mean_test_f1_weighted</th>\n",
       "    </tr>\n",
       "  </thead>\n",
       "  <tbody>\n",
       "    <tr>\n",
       "      <th>3</th>\n",
       "      <td>{'dt__max_features': None}</td>\n",
       "      <td>0.853591</td>\n",
       "      <td>0.853959</td>\n",
       "    </tr>\n",
       "    <tr>\n",
       "      <th>0</th>\n",
       "      <td>{'dt__max_features': 'auto'}</td>\n",
       "      <td>0.799604</td>\n",
       "      <td>0.800094</td>\n",
       "    </tr>\n",
       "    <tr>\n",
       "      <th>1</th>\n",
       "      <td>{'dt__max_features': 'sqrt'}</td>\n",
       "      <td>0.799604</td>\n",
       "      <td>0.800094</td>\n",
       "    </tr>\n",
       "    <tr>\n",
       "      <th>2</th>\n",
       "      <td>{'dt__max_features': 'log2'}</td>\n",
       "      <td>0.690409</td>\n",
       "      <td>0.690987</td>\n",
       "    </tr>\n",
       "  </tbody>\n",
       "</table>\n",
       "</div>"
      ],
      "text/plain": [
       "                         params  mean_test_accuracy  mean_test_f1_weighted\n",
       "3    {'dt__max_features': None}            0.853591               0.853959\n",
       "0  {'dt__max_features': 'auto'}            0.799604               0.800094\n",
       "1  {'dt__max_features': 'sqrt'}            0.799604               0.800094\n",
       "2  {'dt__max_features': 'log2'}            0.690409               0.690987"
      ]
     },
     "execution_count": 113,
     "metadata": {
      "tags": []
     },
     "output_type": "execute_result"
    }
   ],
   "source": [
    "# tune max_features \n",
    "dt_cvec_pipe= Pipeline([\n",
    "                     ('cvec',CountVectorizer(lowercase=False,stop_words= [None],ngram_range=(1,3))),\n",
    "                     ('dt',DecisionTreeClassifier(random_state=42))\n",
    "])\n",
    "# params to try \n",
    "dt_cvec_params = {\n",
    "    'dt__max_features':['auto','sqrt','log2',None]\n",
    "\n",
    "}\n",
    "# instantiate grid search \n",
    "dt_cvec_gs= GridSearchCV(dt_cvec_pipe,dt_cvec_params,scoring=metrics,n_jobs=-1,refit='f1_weighted',cv=3,verbose=1)\n",
    "#perform search \n",
    "dt_cvec_gs.fit(X_train,y_train)\n",
    "\n",
    "# check results \n",
    "pd.DataFrame(dt_cvec_gs.cv_results_)[['params','mean_test_accuracy','mean_test_f1_weighted']].sort_values(by='mean_test_f1_weighted',ascending=False).head(10)"
   ]
  },
  {
   "cell_type": "code",
   "execution_count": 114,
   "id": "Mn3AWyGCiR_G",
   "metadata": {
    "colab": {
     "base_uri": "https://localhost:8080/"
    },
    "id": "Mn3AWyGCiR_G",
    "outputId": "21d1dba2-6540-4c7b-d788-8162c654f9ec"
   },
   "outputs": [
    {
     "data": {
      "text/plain": [
       "{'Training Accur Score': 1.0,\n",
       " 'Test Accur Score': 0.863220494053065,\n",
       " 'Training F1': 1.0,\n",
       " 'Test F1': 0.8635475326081407}"
      ]
     },
     "execution_count": 114,
     "metadata": {
      "tags": []
     },
     "output_type": "execute_result"
    }
   ],
   "source": [
    "model_eval(dt_cvec_gs)"
   ]
  },
  {
   "cell_type": "markdown",
   "id": "0JykcaQCigOL",
   "metadata": {
    "id": "0JykcaQCigOL"
   },
   "source": [
    "The different possible values for maximum number of features did not yield any positive results. The model seems to perform best without limitations on the number of features allowed \n",
    "\n",
    "We can try adjusting the ccp_alpha parameter to try and reduce overfitting. \n",
    "  - This is the parameter for minimal cost complexity pruning. The alpha paramter is used to define the cost complexity meausure of the tree. \n",
    "  - This paramater helps establish a threshold for evaluating features to see if they provide enough information to be useful. \n",
    "  - The greater the value of alpha the more features get dropped from the model\n",
    "  - This helps reduce the number of features which would help reduce overfitting. \n",
    "\n",
    "[source](https://scikit-learn.org/stable/modules/tree.html#minimal-cost-complexity-pruning)   \n",
    "\n"
   ]
  },
  {
   "cell_type": "code",
   "execution_count": 141,
   "id": "ZW3NrTTaiibV",
   "metadata": {
    "colab": {
     "base_uri": "https://localhost:8080/",
     "height": 297
    },
    "id": "ZW3NrTTaiibV",
    "outputId": "d7c79d38-f1e9-4aaf-9350-7908b359b11b"
   },
   "outputs": [
    {
     "name": "stdout",
     "output_type": "stream",
     "text": [
      "Fitting 3 folds for each of 100 candidates, totalling 300 fits\n"
     ]
    },
    {
     "data": {
      "image/png": "[encoded data removed]",
      "text/plain": [
       "<Figure size 432x288 with 1 Axes>"
      ]
     },
     "metadata": {
      "needs_background": "light",
      "tags": []
     },
     "output_type": "display_data"
    }
   ],
   "source": [
    "# tune DT ccp_alpha\n",
    "dt_cvec_pipe= Pipeline([\n",
    "                     ('cvec',CountVectorizer(lowercase=False,stop_words= [None],ngram_range=(1,3))),\n",
    "                     ('dt',DecisionTreeClassifier(random_state=42))\n",
    "])\n",
    "# parameters to search over \n",
    "dt_cvec_params = {\n",
    "    'dt__ccp_alpha':uniform(0,1) # default is 1 \n",
    "}\n",
    "# instantiate randome search over 100 values between 0 and 1\n",
    "dt_cvec_rs0= RandomizedSearchCV(dt_cvec_pipe,dt_cvec_params,scoring=metrics,n_jobs=-1,refit='f1_weighted',cv=3,verbose=1,random_state=42,\n",
    "                               n_iter=100)\n",
    "dt_cvec_rs0.fit(X_train,y_train)\n",
    "\n",
    "\n",
    "graph_cv_results(dt_cvec_rs0,'dt__ccp_alpha')"
   ]
  },
  {
   "cell_type": "code",
   "execution_count": 119,
   "id": "cU7EB1YakP5-",
   "metadata": {
    "colab": {
     "base_uri": "https://localhost:8080/"
    },
    "id": "cU7EB1YakP5-",
    "outputId": "eda9835d-09d2-40bb-9ff4-47f8f17b0460"
   },
   "outputs": [
    {
     "data": {
      "text/plain": [
       "{'Training Accur Score': 0.6972700930303493,\n",
       " 'Test Accur Score': 0.7102012808783166,\n",
       " 'Training F1': 0.6622067637931398,\n",
       " 'Test F1': 0.6771654046883974}"
      ]
     },
     "execution_count": 119,
     "metadata": {
      "tags": []
     },
     "output_type": "execute_result"
    }
   ],
   "source": [
    "model_eval(dt_cvec_rs)"
   ]
  },
  {
   "cell_type": "markdown",
   "id": "MuQPlTytkAUv",
   "metadata": {
    "id": "MuQPlTytkAUv"
   },
   "source": [
    "The mean weighted F1 score increases for values from 0.02 to 0. \n",
    "\n",
    "To find the optimal value for ccp_alpha we should focus our search in that range. "
   ]
  },
  {
   "cell_type": "code",
   "execution_count": 120,
   "id": "KiuEezQqkJDy",
   "metadata": {
    "colab": {
     "base_uri": "https://localhost:8080/",
     "height": 314
    },
    "id": "KiuEezQqkJDy",
    "outputId": "27b56c24-823d-4543-b93d-46c8ba0977d4"
   },
   "outputs": [
    {
     "name": "stdout",
     "output_type": "stream",
     "text": [
      "Fitting 3 folds for each of 50 candidates, totalling 150 fits\n",
      "{'Training Accur Score': 0.8200396522800061, 'Test Accur Score': 0.8380603842634949, 'Training F1': 0.8177341299616978, 'Test F1': 0.8355985797251343}\n"
     ]
    },
    {
     "data": {
      "image/png": "[encoded data removed]",
      "text/plain": [
       "<Figure size 432x288 with 1 Axes>"
      ]
     },
     "metadata": {
      "needs_background": "light",
      "tags": []
     },
     "output_type": "display_data"
    }
   ],
   "source": [
    "# tune DT ccp_alpha from 0 to 0.2 \n",
    "dt_cvec_pipe= Pipeline([\n",
    "                     ('cvec',CountVectorizer(lowercase=False,stop_words= [None],ngram_range=(1,3))),\n",
    "                     ('dt',DecisionTreeClassifier(random_state=42))\n",
    "])\n",
    "# params to search over \n",
    "dt_cvec_params = {\n",
    "    'dt__ccp_alpha':uniform(0,0.2) # search between 0 and 0.2 \n",
    "}\n",
    "# instantitate random search for 100 values between 0 and 0.2 \n",
    "dt_cvec_rs= RandomizedSearchCV(dt_cvec_pipe,dt_cvec_params,scoring=metrics,n_jobs=-1,refit='f1_weighted',cv=3,verbose=1,random_state=42,\n",
    "                               n_iter=50)\n",
    "# perform search\n",
    "dt_cvec_rs.fit(X_train,y_train)\n",
    "#check results \n",
    "graph_cv_results(dt_cvec_rs,'dt__ccp_alpha')\n",
    "print(model_eval(dt_cvec_rs))"
   ]
  },
  {
   "cell_type": "code",
   "execution_count": 121,
   "id": "I8xirpvym8LA",
   "metadata": {
    "colab": {
     "base_uri": "https://localhost:8080/"
    },
    "id": "I8xirpvym8LA",
    "outputId": "c2d7c9d9-897e-44d6-91dc-6ac3a5b54686"
   },
   "outputs": [
    {
     "data": {
      "text/plain": [
       "{'dt__ccp_alpha': 0.004116898859160489}"
      ]
     },
     "execution_count": 121,
     "metadata": {
      "tags": []
     },
     "output_type": "execute_result"
    }
   ],
   "source": [
    "# print best value for cost complexity pruning alpha from search \n",
    "dt_cvec_rs.best_params_"
   ]
  },
  {
   "cell_type": "markdown",
   "id": "5rO9CCP7msEf",
   "metadata": {
    "id": "5rO9CCP7msEf"
   },
   "source": [
    "After applying the ccp_alpha value of 0.0041 the decision tree model is no longer overfit. \n",
    "  - The test and train accuracy scores are within 0.02 of each other \n",
    "\n",
    "The accuracy and F1 score are both lower with the less overfit version of the decision tree compared to the final naive bayes model.\n",
    "\n",
    "This could possibly be improved by using other tree modeling methods such as bagging and random forest.  \n",
    "\n",
    "The final decision tree model still performs about 30% better then the baseline model. \n"
   ]
  },
  {
   "cell_type": "markdown",
   "id": "uysS7htzq8gY",
   "metadata": {
    "id": "uysS7htzq8gY"
   },
   "source": [
    "# Conclusion and Recommendations\n",
    "\n",
    "The significant improvement from the baseline model in both the naive bayes and decision tree model suggests that it is possible to label submissions as “fake news” or “real news” based on the title.\n",
    "\n",
    "\n",
    "Recommend training model on more subreddits before deploying the feature across all of reddit. \n",
    "\n",
    "Recommend testing other classification models like random forest to see if better accuracy can be achieved. \n",
    "\n",
    "Limitations of current model: \n",
    "- Not much data cleaning was performed so it may be possible to get better features after cleaning the data further  \n",
    "- Basic transformer to vectorize text use used. By using a more complex transformer, such as TFIDF, that retains more of the context in the text it may be possible to get better results.  \n",
    "- The model was only trained on two subreddits so the models ability to generalize to other subreddits may be limited. \n",
    "-  Only text from title of post was used for this model so it is likely that by adding other important features and metadata the model will perform better \n"
   ]
  }
 ],
 "metadata": {
  "colab": {
   "collapsed_sections": [],
   "name": "models.ipynb",
   "provenance": []
  },
  "kernelspec": {
   "display_name": "Python 3",
   "language": "python",
   "name": "python3"
  },
  "language_info": {
   "codemirror_mode": {
    "name": "ipython",
    "version": 3
   },
   "file_extension": ".py",
   "mimetype": "text/x-python",
   "name": "python",
   "nbconvert_exporter": "python",
   "pygments_lexer": "ipython3",
   "version": "3.8.8"
  }
 },
 "nbformat": 4,
 "nbformat_minor": 5
}
