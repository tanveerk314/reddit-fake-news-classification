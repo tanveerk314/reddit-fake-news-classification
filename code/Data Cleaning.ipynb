{
 "cells": [
  {
   "cell_type": "markdown",
   "id": "c873e7d4-eccb-4cad-8bd2-a0c718bbfca1",
   "metadata": {},
   "source": [
    "# Data Cleaning \n",
    "\n"
   ]
  },
  {
   "cell_type": "code",
   "execution_count": 239,
   "id": "2daaeecc-6169-4f60-8825-26a870039e39",
   "metadata": {
    "execution": {
     "iopub.execute_input": "2021-08-07T04:19:16.924087Z",
     "iopub.status.busy": "2021-08-07T04:19:16.923188Z",
     "iopub.status.idle": "2021-08-07T04:19:16.934098Z",
     "shell.execute_reply": "2021-08-07T04:19:16.933465Z",
     "shell.execute_reply.started": "2021-08-07T04:19:16.924030Z"
    },
    "tags": []
   },
   "outputs": [],
   "source": [
    "#imports\n",
    "import pandas as pd \n",
    "import numpy as np\n",
    "import matplotlib.pyplot as plt\n",
    "import seaborn as sns\n",
    "import re\n",
    "import scipy.stats\n",
    "from nltk.sentiment.vader import SentimentIntensityAnalyzer"
   ]
  },
  {
   "cell_type": "code",
   "execution_count": 240,
   "id": "94d3f8db-4d04-4ebf-8ac2-a6f78d7c7f9e",
   "metadata": {
    "execution": {
     "iopub.execute_input": "2021-08-07T04:19:35.388437Z",
     "iopub.status.busy": "2021-08-07T04:19:35.388083Z",
     "iopub.status.idle": "2021-08-07T04:19:35.391965Z",
     "shell.execute_reply": "2021-08-07T04:19:35.391611Z",
     "shell.execute_reply.started": "2021-08-07T04:19:35.388419Z"
    }
   },
   "outputs": [],
   "source": [
    "#set options so entire dataframe is viewable\n",
    "pd.options.display.max_columns = 10000\n",
    "pd.options.display.max_rows = 10000\n",
    "pd.options.display.max_colwidth = None"
   ]
  },
  {
   "cell_type": "code",
   "execution_count": 241,
   "id": "14630d0a-5b96-4233-87d4-a1bae7f1100d",
   "metadata": {
    "execution": {
     "iopub.execute_input": "2021-08-07T04:20:02.283026Z",
     "iopub.status.busy": "2021-08-07T04:20:02.282713Z",
     "iopub.status.idle": "2021-08-07T04:20:02.351574Z",
     "shell.execute_reply": "2021-08-07T04:20:02.351208Z",
     "shell.execute_reply.started": "2021-08-07T04:20:02.282988Z"
    },
    "tags": []
   },
   "outputs": [],
   "source": [
    "# import posts from each subreddit \n",
    "onion_df = pd.read_csv('the_onion3.csv')\n",
    "nto_df = pd.read_csv('not_the_onion.csv') "
   ]
  },
  {
   "cell_type": "code",
   "execution_count": 242,
   "id": "62e44530-490e-4f95-bcdc-cb000aa8e3c8",
   "metadata": {
    "execution": {
     "iopub.execute_input": "2021-08-07T04:20:04.703628Z",
     "iopub.status.busy": "2021-08-07T04:20:04.703336Z",
     "iopub.status.idle": "2021-08-07T04:20:04.711920Z",
     "shell.execute_reply": "2021-08-07T04:20:04.711515Z",
     "shell.execute_reply.started": "2021-08-07T04:20:04.703591Z"
    },
    "tags": []
   },
   "outputs": [
    {
     "data": {
      "text/plain": [
       "((8486, 9), (9965, 9))"
      ]
     },
     "execution_count": 242,
     "metadata": {},
     "output_type": "execute_result"
    }
   ],
   "source": [
    "# check shape of each dataset\n",
    "onion_df.shape, nto_df.shape"
   ]
  },
  {
   "cell_type": "code",
   "execution_count": 243,
   "id": "13a54d67-8470-46d3-8083-99866f25390b",
   "metadata": {
    "execution": {
     "iopub.execute_input": "2021-08-07T04:20:15.711645Z",
     "iopub.status.busy": "2021-08-07T04:20:15.711351Z",
     "iopub.status.idle": "2021-08-07T04:20:15.718573Z",
     "shell.execute_reply": "2021-08-07T04:20:15.718226Z",
     "shell.execute_reply.started": "2021-08-07T04:20:15.711609Z"
    },
    "tags": []
   },
   "outputs": [
    {
     "data": {
      "text/plain": [
       "18451"
      ]
     },
     "execution_count": 243,
     "metadata": {},
     "output_type": "execute_result"
    }
   ],
   "source": [
    "# total number of posts \n",
    "len(onion_df) + len(nto_df)"
   ]
  },
  {
   "cell_type": "markdown",
   "id": "ddf6710d-be83-485c-a4d4-dc7d93490738",
   "metadata": {},
   "source": [
    "## Moderator posts \n",
    "\n",
    "- Both subreddits being studied only allow posts pertaining to the topic of the respective subreddit. \n",
    "    - Therefore, we do not need to filter through the posts to see if any are off topic. \n",
    "\n",
    "- The only exception to the rules would be posts from moderators as they have the final say on which posts get to remain and which are moved to another subreddit. \n",
    "    - Possible deviations from the norm could be general annoucements or discussion posts. \n",
    "    \n",
    "- Lets explore our samples from both subreddits to see if any posts from moderators should be removed for the purpose of our analysis.     "
   ]
  },
  {
   "cell_type": "code",
   "execution_count": 245,
   "id": "be1f565f-308c-438f-ad52-cc6e25133637",
   "metadata": {
    "execution": {
     "iopub.execute_input": "2021-08-07T04:37:02.934030Z",
     "iopub.status.busy": "2021-08-07T04:37:02.933832Z",
     "iopub.status.idle": "2021-08-07T04:37:02.937530Z",
     "shell.execute_reply": "2021-08-07T04:37:02.937238Z",
     "shell.execute_reply.started": "2021-08-07T04:37:02.934011Z"
    },
    "tags": []
   },
   "outputs": [],
   "source": [
    "# make set with moderators from r/theonion  \n",
    "#source: https://www.reddit.com/r/TheOnion/about/moderators/\n",
    "onion_mods = {'xvvhiteboy'\n",
    "'ParakeetNipple',\n",
    "'TortoiseSex',\n",
    "'RalphiesBoogers',\n",
    "'pyrowolf8',\n",
    "'Kijafa',\n",
    "'T_Dumbsford','AutoModerator'}\n",
    "\n",
    "#source: https://www.reddit.com/r/TheOnion/about/moderators/\n",
    "# mods set for r/nottheonion \n",
    "nto_mods= {'Knowltey','x_minus_one','TAKEitTOrCIRCLEJERK','greenduch','Kezika','N8theGr8','NotTheOnionBot',\n",
    "           'capecodcaper','BunnicusRex','greeniethemoose','AutoModerator'}"
   ]
  },
  {
   "cell_type": "markdown",
   "id": "4edcb08d-ab07-4a36-9d48-0a60e9751b7c",
   "metadata": {},
   "source": [
    "### r/theonion"
   ]
  },
  {
   "cell_type": "code",
   "execution_count": 173,
   "id": "82442af2-9970-4685-8ed0-2f972bf19cd6",
   "metadata": {
    "execution": {
     "iopub.execute_input": "2021-08-06T14:03:16.345318Z",
     "iopub.status.busy": "2021-08-06T14:03:16.345031Z",
     "iopub.status.idle": "2021-08-06T14:03:16.354633Z",
     "shell.execute_reply": "2021-08-06T14:03:16.354270Z",
     "shell.execute_reply.started": "2021-08-06T14:03:16.345300Z"
    },
    "tags": []
   },
   "outputs": [
    {
     "data": {
      "text/plain": [
       "{'RalphiesBoogers', 'TortoiseSex'}"
      ]
     },
     "execution_count": 173,
     "metadata": {},
     "output_type": "execute_result"
    }
   ],
   "source": [
    "# check if any mods posts in r/theonion  sample\n",
    "set(onion_df['author'].unique()).intersection(onion_mods) "
   ]
  },
  {
   "cell_type": "markdown",
   "id": "0ac9b3c8-6f8f-4cd8-9be0-4fa70fb8ee86",
   "metadata": {},
   "source": [
    "In our sample of posts from r/theonion there are posts from two moderators. Lets explore those posts further to see if they should be removed. "
   ]
  },
  {
   "cell_type": "code",
   "execution_count": 174,
   "id": "a33494ba-4ca3-4c76-a3e8-7423c0443dba",
   "metadata": {
    "execution": {
     "iopub.execute_input": "2021-08-06T14:03:16.988473Z",
     "iopub.status.busy": "2021-08-06T14:03:16.988184Z",
     "iopub.status.idle": "2021-08-06T14:03:17.007436Z",
     "shell.execute_reply": "2021-08-06T14:03:17.007054Z",
     "shell.execute_reply.started": "2021-08-06T14:03:16.988455Z"
    },
    "tags": []
   },
   "outputs": [
    {
     "data": {
      "text/html": [
       "<div>\n",
       "<style scoped>\n",
       "    .dataframe tbody tr th:only-of-type {\n",
       "        vertical-align: middle;\n",
       "    }\n",
       "\n",
       "    .dataframe tbody tr th {\n",
       "        vertical-align: top;\n",
       "    }\n",
       "\n",
       "    .dataframe thead th {\n",
       "        text-align: right;\n",
       "    }\n",
       "</style>\n",
       "<table border=\"1\" class=\"dataframe\">\n",
       "  <thead>\n",
       "    <tr style=\"text-align: right;\">\n",
       "      <th></th>\n",
       "      <th>title</th>\n",
       "      <th>selftext</th>\n",
       "      <th>subreddit</th>\n",
       "      <th>created_utc</th>\n",
       "      <th>author</th>\n",
       "      <th>num_comments</th>\n",
       "      <th>score</th>\n",
       "      <th>is_self</th>\n",
       "      <th>timestamp</th>\n",
       "    </tr>\n",
       "  </thead>\n",
       "  <tbody>\n",
       "    <tr>\n",
       "      <th>4646</th>\n",
       "      <td>74 Normal Photos And 2 Kinda Weird Ones</td>\n",
       "      <td>NaN</td>\n",
       "      <td>the_onion</td>\n",
       "      <td>1503732302</td>\n",
       "      <td>RalphiesBoogers</td>\n",
       "      <td>0</td>\n",
       "      <td>4</td>\n",
       "      <td>False</td>\n",
       "      <td>2017-08-26</td>\n",
       "    </tr>\n",
       "    <tr>\n",
       "      <th>8300</th>\n",
       "      <td>Bedtime Story From Fucking Bible Again</td>\n",
       "      <td>NaN</td>\n",
       "      <td>the_onion</td>\n",
       "      <td>1404856297</td>\n",
       "      <td>TortoiseSex</td>\n",
       "      <td>0</td>\n",
       "      <td>8</td>\n",
       "      <td>False</td>\n",
       "      <td>2014-07-08</td>\n",
       "    </tr>\n",
       "  </tbody>\n",
       "</table>\n",
       "</div>"
      ],
      "text/plain": [
       "                                        title selftext  subreddit  \\\n",
       "4646  74 Normal Photos And 2 Kinda Weird Ones      NaN  the_onion   \n",
       "8300   Bedtime Story From Fucking Bible Again      NaN  the_onion   \n",
       "\n",
       "      created_utc           author  num_comments  score  is_self   timestamp  \n",
       "4646   1503732302  RalphiesBoogers             0      4    False  2017-08-26  \n",
       "8300   1404856297      TortoiseSex             0      8    False  2014-07-08  "
      ]
     },
     "execution_count": 174,
     "metadata": {},
     "output_type": "execute_result"
    }
   ],
   "source": [
    "# look at posts by mods in r/theonion in our sample set\n",
    "onion_df[(onion_df['author']=='TortoiseSex')|(onion_df['author']=='RalphiesBoogers')]"
   ]
  },
  {
   "cell_type": "markdown",
   "id": "81395e7f-f74d-449d-b7be-591097e285ac",
   "metadata": {},
   "source": [
    "- Only two posts in our sample are from mods in r/theonion\n",
    "\n",
    "- A quick search on reddit for those particular posts reveals that they follow the rules of the subreddit and thus should not be removed. \n",
    "\n",
    "Links to actual posts: \n",
    "\n",
    "https://www.reddit.com/r/TheOnion/comments/2a6kwl/bedtime_story_from_fucking_bible_again/\n",
    "\n",
    "https://www.reddit.com/r/TheOnion/comments/6w4bc7/74_normal_photos_and_2_kinda_weird_ones/?utm_source=amp&utm_medium=&utm_content=post_title\n",
    "\n",
    "###  r/nottheonion"
   ]
  },
  {
   "cell_type": "code",
   "execution_count": 246,
   "id": "5b57ffec-d194-4a1b-8280-b8f4defe4115",
   "metadata": {
    "execution": {
     "iopub.execute_input": "2021-08-07T04:42:34.474558Z",
     "iopub.status.busy": "2021-08-07T04:42:34.474357Z",
     "iopub.status.idle": "2021-08-07T04:42:34.483462Z",
     "shell.execute_reply": "2021-08-07T04:42:34.483114Z",
     "shell.execute_reply.started": "2021-08-07T04:42:34.474542Z"
    },
    "tags": []
   },
   "outputs": [
    {
     "data": {
      "text/plain": [
       "{'N8theGr8'}"
      ]
     },
     "execution_count": 246,
     "metadata": {},
     "output_type": "execute_result"
    }
   ],
   "source": [
    "# check if any mods posts in r/nottheonion sample\n",
    "set(nto_df['author'].unique()).intersection(nto_mods)\n"
   ]
  },
  {
   "cell_type": "markdown",
   "id": "54b8bfb0-5b99-4cb3-9654-01783aeb0abd",
   "metadata": {},
   "source": [
    "Our sample of posts from r/nottheonion only contains posts from one moderator. Lets explore those posts further to see if they should be removed.  "
   ]
  },
  {
   "cell_type": "code",
   "execution_count": 247,
   "id": "80f2304f-0267-4473-b7d9-dae18df517b0",
   "metadata": {
    "execution": {
     "iopub.execute_input": "2021-08-07T04:44:16.245793Z",
     "iopub.status.busy": "2021-08-07T04:44:16.245488Z",
     "iopub.status.idle": "2021-08-07T04:44:16.258658Z",
     "shell.execute_reply": "2021-08-07T04:44:16.257685Z",
     "shell.execute_reply.started": "2021-08-07T04:44:16.245776Z"
    },
    "tags": []
   },
   "outputs": [
    {
     "data": {
      "text/html": [
       "<div>\n",
       "<style scoped>\n",
       "    .dataframe tbody tr th:only-of-type {\n",
       "        vertical-align: middle;\n",
       "    }\n",
       "\n",
       "    .dataframe tbody tr th {\n",
       "        vertical-align: top;\n",
       "    }\n",
       "\n",
       "    .dataframe thead th {\n",
       "        text-align: right;\n",
       "    }\n",
       "</style>\n",
       "<table border=\"1\" class=\"dataframe\">\n",
       "  <thead>\n",
       "    <tr style=\"text-align: right;\">\n",
       "      <th></th>\n",
       "      <th>title</th>\n",
       "      <th>selftext</th>\n",
       "      <th>subreddit</th>\n",
       "      <th>created_utc</th>\n",
       "      <th>author</th>\n",
       "      <th>num_comments</th>\n",
       "      <th>score</th>\n",
       "      <th>is_self</th>\n",
       "      <th>timestamp</th>\n",
       "    </tr>\n",
       "  </thead>\n",
       "  <tbody>\n",
       "    <tr>\n",
       "      <th>8672</th>\n",
       "      <td>N. Korean leader complains about weather service</td>\n",
       "      <td>NaN</td>\n",
       "      <td>not_the_onion</td>\n",
       "      <td>1402568083</td>\n",
       "      <td>N8theGr8</td>\n",
       "      <td>0</td>\n",
       "      <td>1</td>\n",
       "      <td>False</td>\n",
       "      <td>2014-06-12</td>\n",
       "    </tr>\n",
       "    <tr>\n",
       "      <th>8673</th>\n",
       "      <td>Bachelor party makes impressive fossil discovery in Elephant Butte</td>\n",
       "      <td>NaN</td>\n",
       "      <td>not_the_onion</td>\n",
       "      <td>1402568531</td>\n",
       "      <td>N8theGr8</td>\n",
       "      <td>1</td>\n",
       "      <td>32</td>\n",
       "      <td>False</td>\n",
       "      <td>2014-06-12</td>\n",
       "    </tr>\n",
       "    <tr>\n",
       "      <th>8764</th>\n",
       "      <td>'My house is on fire m8 lol' ... 911 texting tested in the US</td>\n",
       "      <td>NaN</td>\n",
       "      <td>not_the_onion</td>\n",
       "      <td>1400239375</td>\n",
       "      <td>N8theGr8</td>\n",
       "      <td>378</td>\n",
       "      <td>1473</td>\n",
       "      <td>False</td>\n",
       "      <td>2014-05-16</td>\n",
       "    </tr>\n",
       "  </tbody>\n",
       "</table>\n",
       "</div>"
      ],
      "text/plain": [
       "                                                                   title  \\\n",
       "8672                    N. Korean leader complains about weather service   \n",
       "8673  Bachelor party makes impressive fossil discovery in Elephant Butte   \n",
       "8764       'My house is on fire m8 lol' ... 911 texting tested in the US   \n",
       "\n",
       "     selftext      subreddit  created_utc    author  num_comments  score  \\\n",
       "8672      NaN  not_the_onion   1402568083  N8theGr8             0      1   \n",
       "8673      NaN  not_the_onion   1402568531  N8theGr8             1     32   \n",
       "8764      NaN  not_the_onion   1400239375  N8theGr8           378   1473   \n",
       "\n",
       "      is_self   timestamp  \n",
       "8672    False  2014-06-12  \n",
       "8673    False  2014-06-12  \n",
       "8764    False  2014-05-16  "
      ]
     },
     "execution_count": 247,
     "metadata": {},
     "output_type": "execute_result"
    }
   ],
   "source": [
    "# posts from N8theGr8 in our sample from r/nottheonion\n",
    "nto_df[nto_df['author']=='N8theGr8']"
   ]
  },
  {
   "cell_type": "markdown",
   "id": "4ab44132-2059-4806-b7f1-0a311e600678",
   "metadata": {},
   "source": [
    "- Once again, a quick search on reddit shows that these posts follow the general rules of the subreddit. Therefore, we do not have reason to believe that they should be removed from our sample. \n",
    "\n",
    "Links to posts: \n",
    "\n",
    "https://www.reddit.com/r/nottheonion/comments/27ycg2/bachelor_party_makes_impressive_fossil_discovery/\n",
    "\n",
    "https://www.reddit.com/r/nottheonion/comments/25pcwv/my_house_is_on_fire_m8_lol_911_texting_tested_in/\n",
    "\n"
   ]
  },
  {
   "cell_type": "markdown",
   "id": "793d511b-80c1-4b5d-93f0-4fb77b79e461",
   "metadata": {},
   "source": [
    "## Combine Samples\n"
   ]
  },
  {
   "cell_type": "markdown",
   "id": "c67aac7c-895e-48e3-b972-f9d17d7b7a64",
   "metadata": {},
   "source": [
    "For modeling purposes posts from both subreddits will be combined into a single dataframe. In order to preserve the information regarding the origin of each post a column can be added with the name of the respective subreddit. \n"
   ]
  },
  {
   "cell_type": "code",
   "execution_count": 244,
   "id": "7cee90bb-b52f-4486-96ab-77d2b71faca2",
   "metadata": {
    "execution": {
     "iopub.execute_input": "2021-08-07T04:26:20.315156Z",
     "iopub.status.busy": "2021-08-07T04:26:20.314820Z",
     "iopub.status.idle": "2021-08-07T04:26:20.319631Z",
     "shell.execute_reply": "2021-08-07T04:26:20.319316Z",
     "shell.execute_reply.started": "2021-08-07T04:26:20.315137Z"
    },
    "tags": []
   },
   "outputs": [],
   "source": [
    "#Add column for subreddit to each dataframe \n",
    "onion_df['subreddit'] = 'the_onion'\n",
    "nto_df['subreddit'] = 'not_the_onion'\n"
   ]
  },
  {
   "cell_type": "code",
   "execution_count": 250,
   "id": "7e3d154c-1176-4278-b8f6-acc87f54db3a",
   "metadata": {
    "execution": {
     "iopub.execute_input": "2021-08-07T04:47:58.922457Z",
     "iopub.status.busy": "2021-08-07T04:47:58.922136Z",
     "iopub.status.idle": "2021-08-07T04:47:58.929004Z",
     "shell.execute_reply": "2021-08-07T04:47:58.928598Z",
     "shell.execute_reply.started": "2021-08-07T04:47:58.922438Z"
    },
    "tags": []
   },
   "outputs": [],
   "source": [
    "# combine dataframes \n",
    "posts= pd.concat([onion_df,nto_df],ignore_index=True)"
   ]
  },
  {
   "cell_type": "code",
   "execution_count": 251,
   "id": "3ec0df36-8818-422a-91b8-b00095f1b0f2",
   "metadata": {
    "execution": {
     "iopub.execute_input": "2021-08-07T04:48:00.300196Z",
     "iopub.status.busy": "2021-08-07T04:48:00.299856Z",
     "iopub.status.idle": "2021-08-07T04:48:00.304678Z",
     "shell.execute_reply": "2021-08-07T04:48:00.304381Z",
     "shell.execute_reply.started": "2021-08-07T04:48:00.300178Z"
    },
    "tags": []
   },
   "outputs": [
    {
     "data": {
      "text/plain": [
       "True"
      ]
     },
     "execution_count": 251,
     "metadata": {},
     "output_type": "execute_result"
    }
   ],
   "source": [
    "#confirm results\n",
    "len(posts)== len(onion_df)+ len(nto_df)"
   ]
  },
  {
   "cell_type": "code",
   "execution_count": 252,
   "id": "3a8341a8-d417-45ca-9b19-c93cd83406da",
   "metadata": {
    "execution": {
     "iopub.execute_input": "2021-08-07T04:48:11.126073Z",
     "iopub.status.busy": "2021-08-07T04:48:11.125733Z",
     "iopub.status.idle": "2021-08-07T04:48:11.134075Z",
     "shell.execute_reply": "2021-08-07T04:48:11.133703Z",
     "shell.execute_reply.started": "2021-08-07T04:48:11.126053Z"
    }
   },
   "outputs": [
    {
     "data": {
      "text/plain": [
       "RangeIndex(start=0, stop=18451, step=1)"
      ]
     },
     "execution_count": 252,
     "metadata": {},
     "output_type": "execute_result"
    }
   ],
   "source": [
    "#confirm indexed properly \n",
    "posts.index"
   ]
  },
  {
   "cell_type": "markdown",
   "id": "31e9e20f-05ec-471f-a896-14583c0099ce",
   "metadata": {},
   "source": [
    "## Remove Duplicates \n",
    "\n",
    "- Since the posts in our sample were retrieved sequentially based on time of submission it is possible that multiple users posted links to the same article at different times and while gathering the data we picked up multiple entries for the same article. \n",
    "\n",
    "- Multiple observations with the same information will not provide any value for our purposes so we will drop any duplicates in our sample set.   \n",
    "\n"
   ]
  },
  {
   "cell_type": "code",
   "execution_count": 255,
   "id": "0ad349f3-f54a-453c-ba1b-20fe48b1eb8c",
   "metadata": {
    "execution": {
     "iopub.execute_input": "2021-08-07T04:54:04.598477Z",
     "iopub.status.busy": "2021-08-07T04:54:04.598165Z",
     "iopub.status.idle": "2021-08-07T04:54:04.609112Z",
     "shell.execute_reply": "2021-08-07T04:54:04.608716Z",
     "shell.execute_reply.started": "2021-08-07T04:54:04.598459Z"
    },
    "tags": []
   },
   "outputs": [],
   "source": [
    "# drop duplicate entries for title \n",
    "posts = posts.drop_duplicates(subset=['title'],ignore_index=True)"
   ]
  },
  {
   "cell_type": "code",
   "execution_count": 16,
   "id": "5dcd0b63-937b-4696-b474-64c2014b0811",
   "metadata": {
    "execution": {
     "iopub.execute_input": "2021-08-05T22:23:56.169211Z",
     "iopub.status.busy": "2021-08-05T22:23:56.169081Z",
     "iopub.status.idle": "2021-08-05T22:23:56.179919Z",
     "shell.execute_reply": "2021-08-05T22:23:56.179318Z",
     "shell.execute_reply.started": "2021-08-05T22:23:56.169196Z"
    }
   },
   "outputs": [
    {
     "data": {
      "text/plain": [
       "not_the_onion    0.55148\n",
       "the_onion        0.44852\n",
       "Name: subreddit, dtype: float64"
      ]
     },
     "execution_count": 16,
     "metadata": {},
     "output_type": "execute_result"
    }
   ],
   "source": [
    "# value counts \n",
    "posts['subreddit'].value_counts(normalize=True)"
   ]
  },
  {
   "cell_type": "code",
   "execution_count": 185,
   "id": "651b7140-6df4-452f-9310-16dc243f78d9",
   "metadata": {
    "execution": {
     "iopub.execute_input": "2021-08-06T14:05:16.287202Z",
     "iopub.status.busy": "2021-08-06T14:05:16.286867Z",
     "iopub.status.idle": "2021-08-06T14:05:16.291085Z",
     "shell.execute_reply": "2021-08-06T14:05:16.290795Z",
     "shell.execute_reply.started": "2021-08-06T14:05:16.287181Z"
    },
    "tags": []
   },
   "outputs": [
    {
     "data": {
      "text/plain": [
       "17502"
      ]
     },
     "execution_count": 185,
     "metadata": {},
     "output_type": "execute_result"
    }
   ],
   "source": [
    "len(posts)"
   ]
  },
  {
   "cell_type": "markdown",
   "id": "e2431468-d2e6-4ece-a93c-a356b49bf7d4",
   "metadata": {},
   "source": [
    "After dropping duplicates we have about 900 less observations in our sample set but the sample size is stil relatively large so this is not cause for concern. \n",
    "\n",
    "The balance of classes in our sample set is the same as before dropping duplicates so this indicates both subreddits had similar numbers of duplicates. "
   ]
  },
  {
   "cell_type": "markdown",
   "id": "b83ab35a-bb31-44df-ad7a-2c4d26530aa1",
   "metadata": {},
   "source": [
    "## Remove Empty Posts \n",
    "\n",
    "As we are trying to build a classification model based on the text in the title, if a post does not have any text in the title then that post would not provide any value for our purposes. Therefore, we will remove any posts with no text in the title. \n",
    "\n"
   ]
  },
  {
   "cell_type": "code",
   "execution_count": 284,
   "id": "52791796-1bf1-4803-82f3-12e2f3dd5f12",
   "metadata": {
    "execution": {
     "iopub.execute_input": "2021-08-07T07:28:13.884148Z",
     "iopub.status.busy": "2021-08-07T07:28:13.883829Z",
     "iopub.status.idle": "2021-08-07T07:28:13.896573Z",
     "shell.execute_reply": "2021-08-07T07:28:13.896196Z",
     "shell.execute_reply.started": "2021-08-07T07:28:13.884128Z"
    },
    "tags": []
   },
   "outputs": [],
   "source": [
    "# if length of string in title is not greater then 0 then drop that entry\n",
    "posts = posts[posts['title'].apply(lambda x: len(x)) > 0]"
   ]
  },
  {
   "cell_type": "code",
   "execution_count": 289,
   "id": "8b29627c-5a2d-4c3f-a414-7458a9f0f90f",
   "metadata": {
    "execution": {
     "iopub.execute_input": "2021-08-07T07:35:16.041582Z",
     "iopub.status.busy": "2021-08-07T07:35:16.041231Z",
     "iopub.status.idle": "2021-08-07T07:35:16.044541Z",
     "shell.execute_reply": "2021-08-07T07:35:16.044175Z",
     "shell.execute_reply.started": "2021-08-07T07:35:16.041563Z"
    },
    "tags": []
   },
   "outputs": [],
   "source": [
    "# reset index for ease of use in future \n",
    "posts.reset_index(drop=True,inplace=True)"
   ]
  },
  {
   "cell_type": "markdown",
   "id": "49030121-0bf2-4430-bad6-1cea3b9c0801",
   "metadata": {},
   "source": [
    "## Remove URLs \n",
    "\n",
    "- Both subreddits have the same general format for submissions. \n",
    "    - A headline followed by a link to an article. \n",
    "    \n",
    "- Considering that r/theonion only allows posts from TheOnion all the links in posts from that subreddit will contain 'theonion.com' \n",
    "\n",
    "- When modeling, if the url to the article is not removed it would be trivial for any model to predict each submission with 100% accuracy based on whether it included a link to theonion.com or not\n",
    "    - This would not be useful for our purposes as we are looking to be able to classify posts based on the headline and a trivial model would not generalize to other subreddits where misinformation may be coming from many different sources. \n",
    "\n",
    "- Therefore we will remove any URLS from the title of each post in our sample.  "
   ]
  },
  {
   "cell_type": "markdown",
   "id": "2a69ec6e-9926-4387-bd68-68124ee3c43c",
   "metadata": {
    "execution": {
     "iopub.execute_input": "2021-08-05T22:23:56.181085Z",
     "iopub.status.busy": "2021-08-05T22:23:56.180964Z",
     "iopub.status.idle": "2021-08-05T22:23:56.187330Z",
     "shell.execute_reply": "2021-08-05T22:23:56.186366Z",
     "shell.execute_reply.started": "2021-08-05T22:23:56.181071Z"
    },
    "tags": []
   },
   "source": [
    "Referenced: https://stackoverflow.com/questions/11331982/how-to-remove-any-url-within-a-string-in-python \n",
    "\n",
    "regex for urls: r'(https|http)?:\\/\\/(\\w|\\.|\\/|\\?|\\=|\\&|\\%)*\\b'"
   ]
  },
  {
   "cell_type": "code",
   "execution_count": 258,
   "id": "1d47f2b5-1043-4854-b65d-66c7bee91e49",
   "metadata": {
    "execution": {
     "iopub.execute_input": "2021-08-07T05:08:35.047503Z",
     "iopub.status.busy": "2021-08-07T05:08:35.047185Z",
     "iopub.status.idle": "2021-08-07T05:08:35.100777Z",
     "shell.execute_reply": "2021-08-07T05:08:35.100375Z",
     "shell.execute_reply.started": "2021-08-07T05:08:35.047486Z"
    },
    "tags": []
   },
   "outputs": [
    {
     "name": "stderr",
     "output_type": "stream",
     "text": [
      "<ipython-input-258-decabe1a5c31>:2: UserWarning: This pattern has match groups. To actually get the groups, use str.extract.\n",
      "  posts['title'].str.contains(r'(https|http)?:\\/\\/(\\w|\\.|\\/|\\?|\\=|\\&|\\%)*\\b',regex=True).sum()\n"
     ]
    },
    {
     "data": {
      "text/plain": [
       "48"
      ]
     },
     "execution_count": 258,
     "metadata": {},
     "output_type": "execute_result"
    }
   ],
   "source": [
    "# check how many urls in our sample set\n",
    "posts['title'].str.contains(r'(https|http)?:\\/\\/(\\w|\\.|\\/|\\?|\\=|\\&|\\%)*\\b',regex=True).sum()"
   ]
  },
  {
   "cell_type": "code",
   "execution_count": 259,
   "id": "ce7149f7-b709-4deb-a6c7-f8800e7508d9",
   "metadata": {
    "execution": {
     "iopub.execute_input": "2021-08-07T05:08:39.826069Z",
     "iopub.status.busy": "2021-08-07T05:08:39.825786Z",
     "iopub.status.idle": "2021-08-07T05:08:39.881724Z",
     "shell.execute_reply": "2021-08-07T05:08:39.881344Z",
     "shell.execute_reply.started": "2021-08-07T05:08:39.826051Z"
    },
    "tags": []
   },
   "outputs": [],
   "source": [
    "# remove urls\n",
    "posts['title']= posts['title'].str.replace(r'(https|http)?:\\/\\/(\\w|\\.|\\/|\\?|\\=|\\&|\\%)*\\b','',regex=True)"
   ]
  },
  {
   "cell_type": "code",
   "execution_count": 260,
   "id": "fee2296b-94f7-4d0f-ac70-aa5f52927db4",
   "metadata": {
    "execution": {
     "iopub.execute_input": "2021-08-07T05:08:41.838272Z",
     "iopub.status.busy": "2021-08-07T05:08:41.837992Z",
     "iopub.status.idle": "2021-08-07T05:08:41.894354Z",
     "shell.execute_reply": "2021-08-07T05:08:41.893989Z",
     "shell.execute_reply.started": "2021-08-07T05:08:41.838255Z"
    },
    "tags": []
   },
   "outputs": [
    {
     "name": "stderr",
     "output_type": "stream",
     "text": [
      "<ipython-input-260-bc25d48fbb52>:2: UserWarning: This pattern has match groups. To actually get the groups, use str.extract.\n",
      "  posts['title'].str.contains(r'(https|http)?:\\/\\/(\\w|\\.|\\/|\\?|\\=|\\&|\\%)*\\b',regex=True).sum()\n"
     ]
    },
    {
     "data": {
      "text/plain": [
       "0"
      ]
     },
     "execution_count": 260,
     "metadata": {},
     "output_type": "execute_result"
    }
   ],
   "source": [
    "# confirm removed \n",
    "posts['title'].str.contains(r'(https|http)?:\\/\\/(\\w|\\.|\\/|\\?|\\=|\\&|\\%)*\\b',regex=True).sum()"
   ]
  },
  {
   "cell_type": "markdown",
   "id": "01746f99-77d2-426c-8fa0-b8e18bc45a04",
   "metadata": {},
   "source": [
    "In addition to the URLs removed based on the above format, we can check if any urls that begin with just \"www.\" are still present in our sample set. "
   ]
  },
  {
   "cell_type": "code",
   "execution_count": 261,
   "id": "3a835f6d-7fb7-4bdc-a355-d42a6034455b",
   "metadata": {
    "execution": {
     "iopub.execute_input": "2021-08-07T05:11:42.103589Z",
     "iopub.status.busy": "2021-08-07T05:11:42.103305Z",
     "iopub.status.idle": "2021-08-07T05:11:42.129685Z",
     "shell.execute_reply": "2021-08-07T05:11:42.129307Z",
     "shell.execute_reply.started": "2021-08-07T05:11:42.103572Z"
    },
    "tags": []
   },
   "outputs": [
    {
     "data": {
      "text/plain": [
       "2"
      ]
     },
     "execution_count": 261,
     "metadata": {},
     "output_type": "execute_result"
    }
   ],
   "source": [
    "# check if 'www.' indicating start of url \n",
    "posts['title'].str.contains(r'[w]{3}\\.').sum()"
   ]
  },
  {
   "cell_type": "markdown",
   "id": "8ec5ea50-49c1-44c9-83ee-4dd101228d68",
   "metadata": {},
   "source": [
    "Two posts in our sample still have \"www.\" in them "
   ]
  },
  {
   "cell_type": "code",
   "execution_count": 266,
   "id": "631c6c45-0f53-43d0-88ce-23df3ab33ec8",
   "metadata": {
    "execution": {
     "iopub.execute_input": "2021-08-07T05:39:07.265474Z",
     "iopub.status.busy": "2021-08-07T05:39:07.265257Z",
     "iopub.status.idle": "2021-08-07T05:39:07.290942Z",
     "shell.execute_reply": "2021-08-07T05:39:07.290630Z",
     "shell.execute_reply.started": "2021-08-07T05:39:07.265457Z"
    },
    "scrolled": true,
    "tags": []
   },
   "outputs": [
    {
     "data": {
      "text/html": [
       "<div>\n",
       "<style scoped>\n",
       "    .dataframe tbody tr th:only-of-type {\n",
       "        vertical-align: middle;\n",
       "    }\n",
       "\n",
       "    .dataframe tbody tr th {\n",
       "        vertical-align: top;\n",
       "    }\n",
       "\n",
       "    .dataframe thead th {\n",
       "        text-align: right;\n",
       "    }\n",
       "</style>\n",
       "<table border=\"1\" class=\"dataframe\">\n",
       "  <thead>\n",
       "    <tr style=\"text-align: right;\">\n",
       "      <th></th>\n",
       "      <th>title</th>\n",
       "    </tr>\n",
       "  </thead>\n",
       "  <tbody>\n",
       "    <tr>\n",
       "      <th>3414</th>\n",
       "      <td>the home of www.dinar.tv</td>\n",
       "    </tr>\n",
       "    <tr>\n",
       "      <th>7742</th>\n",
       "      <td>I'm going to space camp! Yayyyyyaaawwwww...</td>\n",
       "    </tr>\n",
       "  </tbody>\n",
       "</table>\n",
       "</div>"
      ],
      "text/plain": [
       "                                            title\n",
       "3414                     the home of www.dinar.tv\n",
       "7742  I'm going to space camp! Yayyyyyaaawwwww..."
      ]
     },
     "execution_count": 266,
     "metadata": {},
     "output_type": "execute_result"
    }
   ],
   "source": [
    "# check posts with \"www.\" \n",
    "posts[posts['title'].str.contains(r'[w]{3}\\.')][['title']]"
   ]
  },
  {
   "cell_type": "markdown",
   "id": "a52b4fe2-61a3-47ad-8669-48d3ec163906",
   "metadata": {},
   "source": [
    "- It is not clear from the url whether the first entry belongs to r/theonion or r/nottheonion so we will not remove it. \n",
    "\n",
    "- The second post does not actually contain a url so we will not make any modifications at this time. \n",
    "\n",
    "- Based on experience, often when people share URLs online they do not include the \"http\", \"https\", or even the \"www.\" portion but something more like \"example.com\" \n",
    "    - Lets check to see if anything like this is present in our sample set  \n"
   ]
  },
  {
   "cell_type": "code",
   "execution_count": 269,
   "id": "30265b48-a51c-4693-85ad-81088addac2f",
   "metadata": {
    "execution": {
     "iopub.execute_input": "2021-08-07T05:53:22.129194Z",
     "iopub.status.busy": "2021-08-07T05:53:22.128904Z",
     "iopub.status.idle": "2021-08-07T05:53:22.144209Z",
     "shell.execute_reply": "2021-08-07T05:53:22.143817Z",
     "shell.execute_reply.started": "2021-08-07T05:53:22.129177Z"
    },
    "tags": []
   },
   "outputs": [
    {
     "data": {
      "text/plain": [
       "24"
      ]
     },
     "execution_count": 269,
     "metadata": {},
     "output_type": "execute_result"
    }
   ],
   "source": [
    "# check for strings with .com \n",
    "posts['title'].str.contains(r'\\.com').sum()"
   ]
  },
  {
   "cell_type": "code",
   "execution_count": 270,
   "id": "09680fa7-0475-4de7-8ffe-f33c2a16f1e7",
   "metadata": {
    "execution": {
     "iopub.execute_input": "2021-08-07T05:53:23.327269Z",
     "iopub.status.busy": "2021-08-07T05:53:23.326985Z",
     "iopub.status.idle": "2021-08-07T05:53:23.343227Z",
     "shell.execute_reply": "2021-08-07T05:53:23.342851Z",
     "shell.execute_reply.started": "2021-08-07T05:53:23.327252Z"
    },
    "tags": []
   },
   "outputs": [],
   "source": [
    "# remove urls with .com\n",
    "posts['title']= posts['title'].str.replace(r'\\.com','',regex=True)"
   ]
  },
  {
   "cell_type": "code",
   "execution_count": 271,
   "id": "d6b95d07-49d6-44b1-a35a-c518df7eb81a",
   "metadata": {
    "execution": {
     "iopub.execute_input": "2021-08-07T05:53:24.631609Z",
     "iopub.status.busy": "2021-08-07T05:53:24.631322Z",
     "iopub.status.idle": "2021-08-07T05:53:24.644426Z",
     "shell.execute_reply": "2021-08-07T05:53:24.644115Z",
     "shell.execute_reply.started": "2021-08-07T05:53:24.631591Z"
    },
    "tags": []
   },
   "outputs": [
    {
     "data": {
      "text/plain": [
       "0"
      ]
     },
     "execution_count": 271,
     "metadata": {},
     "output_type": "execute_result"
    }
   ],
   "source": [
    "#confirm replaced \n",
    "posts['title'].str.contains(r'\\.com').sum()"
   ]
  },
  {
   "cell_type": "markdown",
   "id": "8e5efa55-44bf-4510-a332-ff6df4f09bec",
   "metadata": {},
   "source": [
    "We have removed URLS based on the most common formats for websites. It is possible for URLS with other formats to still be present in our dataset but we have removed the trivial cases. \n",
    "\n"
   ]
  },
  {
   "cell_type": "code",
   "execution_count": 297,
   "id": "196fcc21-df93-4e31-a63c-1c27a627939b",
   "metadata": {
    "execution": {
     "iopub.execute_input": "2021-08-07T08:41:31.372327Z",
     "iopub.status.busy": "2021-08-07T08:41:31.372078Z",
     "iopub.status.idle": "2021-08-07T08:41:31.459654Z",
     "shell.execute_reply": "2021-08-07T08:41:31.458858Z",
     "shell.execute_reply.started": "2021-08-07T08:41:31.372310Z"
    },
    "tags": []
   },
   "outputs": [],
   "source": [
    "# Save Dataframe with progress \n",
    "posts.to_csv('./data/raw_posts.csv',index=False)"
   ]
  },
  {
   "cell_type": "markdown",
   "id": "520e1335-90b6-440c-9bcb-472c222f5c4f",
   "metadata": {},
   "source": [
    "## Common reddit markdown \n",
    "\n",
    "- Text content on Reddit is stored in a Reddit specific version of markdown text.\n",
    "    - It is used to to format text so it displays as intended. Examples: bold,italics, headings, superscipts etc.\n",
    "\n",
    "- In 2018 Reddit changed its markdown formating and apperence from \"old reddit\" to \"new reddit\" in an effort to make the site more friendly for first time users [source](https://www.reddit.com/r/announcements/comments/7a4bjo/time_for_my_quarterly_inquisition_reddit_ceo_here/dp70sul/?context=2https://www.reddit.com/r/announcements/comments/7a4bjo/time_for_my_quarterly_inquisition_reddit_ceo_here/dp70sul/?context=2). \n",
    "    - Our sample set contains observations from both subreddits for before and after the transition. \n",
    "    - Since this is consistent in both subreddits this is initially not alarming but something to keep in mind. \n",
    "    - Due to the change in formatting if we were to try and make all the text in consistent format we would need to group the observations by the date of submission and use the appropriate markdown to format the text. This would add significant computational expenses. \n",
    "    \n",
    "- Since users on both subreddits have the oppurtunity to format text (if they wish to do so) in the same format ,keeping time period consistant, it would be interesting to see if the markdown styling has an impact on our modeling.     \n",
    "\n",
    "- Therefore, for the purpose of our analysis we will not remove any markdown text. If going this route does not lead to satisfactory results we can consider removing any markdown text for further studies. \n"
   ]
  },
  {
   "cell_type": "markdown",
   "id": "156b8e65-b7d2-40a1-894f-7c5da11523f1",
   "metadata": {},
   "source": [
    "# Other Features \n",
    "\n",
    "Our goal is to build a model to classify posts as either being fake or real news using the headline or title of the submission on reddit. Therefore, for our initial study we will not add additional features or metadata about the posts so we can be confident that the results we are seeing are only based on the text itself and not other features. \n",
    "\n",
    "If after our current study, we find that it is possible to label text as either fake or real news depending on the text we can consider adding additional features to try and improve our model.  "
   ]
  },
  {
   "cell_type": "code",
   "execution_count": 84,
   "id": "6b5a86aa-fea8-4288-9fd9-09258960e9be",
   "metadata": {
    "execution": {
     "iopub.execute_input": "2021-08-05T22:38:46.988509Z",
     "iopub.status.busy": "2021-08-05T22:38:46.988220Z",
     "iopub.status.idle": "2021-08-05T22:38:46.992757Z",
     "shell.execute_reply": "2021-08-05T22:38:46.992397Z",
     "shell.execute_reply.started": "2021-08-05T22:38:46.988487Z"
    },
    "tags": []
   },
   "outputs": [],
   "source": [
    "# helper function\n",
    "def significance_check(df,col):\n",
    "    'non-parametric ANOVA test for numeric col for difference between subreddits in posts dataframe'\n",
    "    return scipy.stats.kruskal(df[df['subreddit']=='the_onion'][col],\n",
    "                   posts[df['subreddit']=='not_the_onion'][col],)"
   ]
  },
  {
   "cell_type": "code",
   "execution_count": 275,
   "id": "936d64dd-0963-48fa-811c-db0970fb402e",
   "metadata": {
    "execution": {
     "iopub.execute_input": "2021-08-07T07:15:18.805263Z",
     "iopub.status.busy": "2021-08-07T07:15:18.805068Z",
     "iopub.status.idle": "2021-08-07T07:15:18.813234Z",
     "shell.execute_reply": "2021-08-07T07:15:18.811824Z",
     "shell.execute_reply.started": "2021-08-07T07:15:18.805245Z"
    },
    "tags": []
   },
   "outputs": [],
   "source": [
    "# helper function  \n",
    "def group_diff(df,col):\n",
    "    'returns basic stats for distribution of col, mean value per subreddit, graph by subreddit, and results from non-parametric ANOVA test '\n",
    "    print(f'Overall Distribution of {col}')\n",
    "    print(df[col].describe()) # overall distribution \n",
    "    print('\\n')\n",
    "    print(f\"Mean {col} for both subreddits\")\n",
    "    print(pd.DataFrame(df.groupby('subreddit')[col].mean())) # mean per subreddit\n",
    "    #graph distribution by subreddit\n",
    "    sns.displot(x=df[col],hue=df['subreddit'],hue_order=['the_onion','not_the_onion'],kind='kde')\n",
    "    plt.title(f'{col} by Subreddit')\n",
    "    print('\\n')\n",
    "    return significance_check(posts,col) # ANOVA for statistical significance "
   ]
  },
  {
   "cell_type": "markdown",
   "id": "4c66c074-fba9-4e4e-90c5-4906bee51090",
   "metadata": {},
   "source": [
    "## Non-Alphanumeric Characters per Post\n",
    "\n",
    "It is plausible that fake vs real news headlines might have different number of non-alphanumeric characters due to fake news headlines trying extra hard to grab readers attention. \n",
    "\n"
   ]
  },
  {
   "cell_type": "code",
   "execution_count": 272,
   "id": "bfc98ed3-8e5a-437a-8ac7-e5fb0bd922b3",
   "metadata": {
    "execution": {
     "iopub.execute_input": "2021-08-07T07:01:07.840306Z",
     "iopub.status.busy": "2021-08-07T07:01:07.840047Z",
     "iopub.status.idle": "2021-08-07T07:01:07.843995Z",
     "shell.execute_reply": "2021-08-07T07:01:07.843674Z",
     "shell.execute_reply.started": "2021-08-07T07:01:07.840286Z"
    },
    "tags": []
   },
   "outputs": [],
   "source": [
    "# function to get number of non-alphanumeric character for a given string \n",
    "def non_alphanum_count(string):\n",
    "    'returns number of non-alphanumeric characters. excludes whitespaces'\n",
    "    count=0\n",
    "    for char in string: \n",
    "        if not (char.isalnum())|(char==' '): # ignoring white space as well \n",
    "            count +=1\n",
    "    return count\n",
    "            "
   ]
  },
  {
   "cell_type": "code",
   "execution_count": 273,
   "id": "00cf7c86-a064-44ce-affd-b0f77c2c4554",
   "metadata": {
    "execution": {
     "iopub.execute_input": "2021-08-07T07:02:54.025079Z",
     "iopub.status.busy": "2021-08-07T07:02:54.024905Z",
     "iopub.status.idle": "2021-08-07T07:02:54.134191Z",
     "shell.execute_reply": "2021-08-07T07:02:54.133710Z",
     "shell.execute_reply.started": "2021-08-07T07:02:54.025064Z"
    },
    "tags": []
   },
   "outputs": [],
   "source": [
    "#add column for non_alphanum_count \n",
    "posts['non_alphanum_count']= posts['title'].apply(non_alphanum_count)"
   ]
  },
  {
   "cell_type": "code",
   "execution_count": 276,
   "id": "268cbc3e-8a7a-4350-a4df-1c3d419a0ca9",
   "metadata": {
    "execution": {
     "iopub.execute_input": "2021-08-07T07:15:30.086135Z",
     "iopub.status.busy": "2021-08-07T07:15:30.085939Z",
     "iopub.status.idle": "2021-08-07T07:15:30.473066Z",
     "shell.execute_reply": "2021-08-07T07:15:30.472736Z",
     "shell.execute_reply.started": "2021-08-07T07:15:30.086119Z"
    },
    "tags": []
   },
   "outputs": [
    {
     "name": "stdout",
     "output_type": "stream",
     "text": [
      "Overall Distribution of non_alphanum_count\n",
      "count    17502.000000\n",
      "mean         1.633356\n",
      "std          1.868089\n",
      "min          0.000000\n",
      "25%          0.000000\n",
      "50%          1.000000\n",
      "75%          2.000000\n",
      "max         26.000000\n",
      "Name: non_alphanum_count, dtype: float64\n",
      "\n",
      "\n",
      "Mean non_alphanum_count for both subreddits\n",
      "               non_alphanum_count\n",
      "subreddit                        \n",
      "not_the_onion            1.646084\n",
      "the_onion                1.617707\n",
      "\n",
      "\n"
     ]
    },
    {
     "data": {
      "text/plain": [
       "KruskalResult(statistic=0.416975462811989, pvalue=0.5184501006791598)"
      ]
     },
     "execution_count": 276,
     "metadata": {},
     "output_type": "execute_result"
    },
    {
     "data": {
      "image/png": "[encoded data removed]",
      "text/plain": [
       "<Figure size 466.25x360 with 1 Axes>"
      ]
     },
     "metadata": {
      "needs_background": "light"
     },
     "output_type": "display_data"
    }
   ],
   "source": [
    "group_diff(posts,'non_alphanum_count')"
   ]
  },
  {
   "cell_type": "markdown",
   "id": "3dcdfae1-cac9-4c38-8495-6422b68eb70e",
   "metadata": {},
   "source": [
    "- At least 75% of observations had at most 2 non-alphanumeric characters while the most was 25. \n",
    "\n",
    "- Both subreddits in question have a very similar number of non_alphanum_count and the difference is not significant. \n",
    "\n",
    "- It is not recommended to consider this feature for inclusion in future work. "
   ]
  },
  {
   "cell_type": "markdown",
   "id": "fcfaf03b-1d0e-45bd-9878-3f677da5593b",
   "metadata": {},
   "source": [
    "## Character Count\n",
    "\n",
    "It would be interesting to see if titles in one subreddit were longer or shorter then those in the other subreddit. "
   ]
  },
  {
   "cell_type": "code",
   "execution_count": 286,
   "id": "492f8f74-6461-4f12-86b5-274befb12415",
   "metadata": {
    "execution": {
     "iopub.execute_input": "2021-08-07T07:28:39.148699Z",
     "iopub.status.busy": "2021-08-07T07:28:39.148380Z",
     "iopub.status.idle": "2021-08-07T07:28:39.162083Z",
     "shell.execute_reply": "2021-08-07T07:28:39.159551Z",
     "shell.execute_reply.started": "2021-08-07T07:28:39.148682Z"
    },
    "tags": []
   },
   "outputs": [
    {
     "name": "stderr",
     "output_type": "stream",
     "text": [
      "<ipython-input-286-9cb4d1f6b6b3>:1: SettingWithCopyWarning: \n",
      "A value is trying to be set on a copy of a slice from a DataFrame.\n",
      "Try using .loc[row_indexer,col_indexer] = value instead\n",
      "\n",
      "See the caveats in the documentation: https://pandas.pydata.org/pandas-docs/stable/user_guide/indexing.html#returning-a-view-versus-a-copy\n",
      "  posts['char_count']= posts['title'].apply(lambda x: len(x))\n"
     ]
    }
   ],
   "source": [
    "# make column for character count of each post \n",
    "posts['char_count']= posts['title'].apply(lambda x: len(x))"
   ]
  },
  {
   "cell_type": "code",
   "execution_count": 287,
   "id": "fe07bf7a-0bbe-4702-8387-61ae5bd95b43",
   "metadata": {
    "execution": {
     "iopub.execute_input": "2021-08-07T07:28:43.871449Z",
     "iopub.status.busy": "2021-08-07T07:28:43.871155Z",
     "iopub.status.idle": "2021-08-07T07:28:44.200187Z",
     "shell.execute_reply": "2021-08-07T07:28:44.199793Z",
     "shell.execute_reply.started": "2021-08-07T07:28:43.871430Z"
    },
    "tags": []
   },
   "outputs": [
    {
     "name": "stdout",
     "output_type": "stream",
     "text": [
      "Overall Distribution of char_count\n",
      "count    17486.000000\n",
      "mean        74.067940\n",
      "std         30.264977\n",
      "min          1.000000\n",
      "25%         55.000000\n",
      "50%         71.000000\n",
      "75%         89.000000\n",
      "max        299.000000\n",
      "Name: char_count, dtype: float64\n",
      "\n",
      "\n",
      "Mean char_count for both subreddits\n",
      "               char_count\n",
      "subreddit                \n",
      "not_the_onion   70.193753\n",
      "the_onion       78.823567\n",
      "\n",
      "\n"
     ]
    },
    {
     "data": {
      "text/plain": [
       "KruskalResult(statistic=423.70400471774605, pvalue=3.812713358399371e-94)"
      ]
     },
     "execution_count": 287,
     "metadata": {},
     "output_type": "execute_result"
    },
    {
     "data": {
      "image/png": "[encoded data removed]",
      "text/plain": [
       "<Figure size 466.25x360 with 1 Axes>"
      ]
     },
     "metadata": {
      "needs_background": "light"
     },
     "output_type": "display_data"
    }
   ],
   "source": [
    "group_diff(posts,'char_count')"
   ]
  },
  {
   "cell_type": "markdown",
   "id": "c1ba6827-b1fc-482c-8f1e-68b34e56e10c",
   "metadata": {},
   "source": [
    "- On average posts in r/theonion were 8 characters longer then those in r/nottheonion\n",
    "    - This might suggest that fake news article headlines tend to be longer overall. \n",
    "\n",
    "\n",
    "- The p-value of 0 suggests that given the two subreddits have the same number of characters per post there is a 0% likelyhood that a random sample would give us data as extreme as ours. At a 95% confidence level we can say that the difference in character count is statistically significant. \n",
    "\n",
    "- Therefore, this feature should be explored further in possible future studies. \n",
    "\n"
   ]
  },
  {
   "cell_type": "markdown",
   "id": "8e3b9a85-da94-4a6c-97ca-9dc583dca1fe",
   "metadata": {},
   "source": [
    "## Word Count \n",
    "\n",
    "We know that posts in r/theonion tend to have more characters in them but do they also have more words or just longer words? "
   ]
  },
  {
   "cell_type": "code",
   "execution_count": 290,
   "id": "38b129a7-4d74-4736-8844-5987b4fb0264",
   "metadata": {
    "execution": {
     "iopub.execute_input": "2021-08-07T07:41:34.990888Z",
     "iopub.status.busy": "2021-08-07T07:41:34.990666Z",
     "iopub.status.idle": "2021-08-07T07:41:35.008170Z",
     "shell.execute_reply": "2021-08-07T07:41:35.007170Z",
     "shell.execute_reply.started": "2021-08-07T07:41:34.990851Z"
    },
    "tags": []
   },
   "outputs": [],
   "source": [
    "#make column for number of words in each post\n",
    "posts['word_count']= posts['title'].apply(lambda x: len(x.split()))"
   ]
  },
  {
   "cell_type": "code",
   "execution_count": 291,
   "id": "28479713-007d-4870-aa59-d44f94b2c130",
   "metadata": {
    "execution": {
     "iopub.execute_input": "2021-08-07T07:41:39.764411Z",
     "iopub.status.busy": "2021-08-07T07:41:39.764095Z",
     "iopub.status.idle": "2021-08-07T07:41:40.121367Z",
     "shell.execute_reply": "2021-08-07T07:41:40.120798Z",
     "shell.execute_reply.started": "2021-08-07T07:41:39.764394Z"
    },
    "tags": []
   },
   "outputs": [
    {
     "name": "stdout",
     "output_type": "stream",
     "text": [
      "Overall Distribution of word_count\n",
      "count    17486.000000\n",
      "mean        12.152122\n",
      "std          5.241775\n",
      "min          1.000000\n",
      "25%          9.000000\n",
      "50%         11.000000\n",
      "75%         15.000000\n",
      "max         56.000000\n",
      "Name: word_count, dtype: float64\n",
      "\n",
      "\n",
      "Mean word_count for both subreddits\n",
      "               word_count\n",
      "subreddit                \n",
      "not_the_onion   11.481112\n",
      "the_onion       12.975796\n",
      "\n",
      "\n"
     ]
    },
    {
     "data": {
      "text/plain": [
       "KruskalResult(statistic=344.2204539512421, pvalue=7.686829170406607e-77)"
      ]
     },
     "execution_count": 291,
     "metadata": {},
     "output_type": "execute_result"
    },
    {
     "data": {
      "image/png": "[encoded data removed]",
      "text/plain": [
       "<Figure size 466.25x360 with 1 Axes>"
      ]
     },
     "metadata": {
      "needs_background": "light"
     },
     "output_type": "display_data"
    }
   ],
   "source": [
    "group_diff(posts,'word_count')"
   ]
  },
  {
   "cell_type": "markdown",
   "id": "9e859fb9-5a7d-4155-84e2-138c64d8e378",
   "metadata": {},
   "source": [
    "- On average, posts in r/theonion were 1.5 words longer then those in r/nottheonion. \n",
    "\n",
    "- Both subreddits had a similar shaped distribution with peaks around the mean and faily symmetric with the exception of the long tails to the right indicating the odd post that is much longer then the rest. \n",
    "\n",
    "- At a 95% confidence level, we can reject the null hypothesis that posts in both subreddits had the same median word count. Therefore, this difference is statistically significant so it should be considered for possible future studies. "
   ]
  },
  {
   "cell_type": "markdown",
   "id": "6bed9194-0782-40aa-b621-a8da4dc06b84",
   "metadata": {},
   "source": [
    "## Sentiment Analysis \n",
    "\n",
    "Do fake news articles tend to be more positive or negative then real news articles? "
   ]
  },
  {
   "cell_type": "code",
   "execution_count": 292,
   "id": "21a47f60-1621-4e83-a081-7003b93bfffa",
   "metadata": {
    "execution": {
     "iopub.execute_input": "2021-08-07T07:48:28.390491Z",
     "iopub.status.busy": "2021-08-07T07:48:28.390177Z",
     "iopub.status.idle": "2021-08-07T07:48:28.393698Z",
     "shell.execute_reply": "2021-08-07T07:48:28.393347Z",
     "shell.execute_reply.started": "2021-08-07T07:48:28.390459Z"
    },
    "tags": []
   },
   "outputs": [],
   "source": [
    "# helper function\n",
    "def senti_comps(string):\n",
    "    'return composite polarity score of given string'\n",
    "    return sia.polarity_scores(string)['compound']"
   ]
  },
  {
   "cell_type": "code",
   "execution_count": 293,
   "id": "6cdb336c-aa6f-4966-afaf-c2118606b564",
   "metadata": {
    "execution": {
     "iopub.execute_input": "2021-08-07T07:49:28.095515Z",
     "iopub.status.busy": "2021-08-07T07:49:28.095184Z",
     "iopub.status.idle": "2021-08-07T07:49:30.065988Z",
     "shell.execute_reply": "2021-08-07T07:49:30.065199Z",
     "shell.execute_reply.started": "2021-08-07T07:49:28.095477Z"
    },
    "tags": []
   },
   "outputs": [],
   "source": [
    "# make column for composite sentiment score of each post\n",
    "posts['senti_comp']= posts['title'].apply(senti_comps)"
   ]
  },
  {
   "cell_type": "code",
   "execution_count": 294,
   "id": "51192c23-a909-4b8f-a476-360136c365e7",
   "metadata": {
    "execution": {
     "iopub.execute_input": "2021-08-07T07:49:36.071168Z",
     "iopub.status.busy": "2021-08-07T07:49:36.070971Z",
     "iopub.status.idle": "2021-08-07T07:49:36.374388Z",
     "shell.execute_reply": "2021-08-07T07:49:36.373541Z",
     "shell.execute_reply.started": "2021-08-07T07:49:36.071151Z"
    },
    "tags": []
   },
   "outputs": [
    {
     "name": "stdout",
     "output_type": "stream",
     "text": [
      "Overall Distribution of senti_comp\n",
      "count    17486.000000\n",
      "mean        -0.081717\n",
      "std          0.401172\n",
      "min         -0.965700\n",
      "25%         -0.401900\n",
      "50%          0.000000\n",
      "75%          0.077200\n",
      "max          0.969000\n",
      "Name: senti_comp, dtype: float64\n",
      "\n",
      "\n",
      "Mean senti_comp for both subreddits\n",
      "               senti_comp\n",
      "subreddit                \n",
      "not_the_onion   -0.136165\n",
      "the_onion       -0.014882\n",
      "\n",
      "\n"
     ]
    },
    {
     "data": {
      "text/plain": [
       "KruskalResult(statistic=360.83616903751, pvalue=1.8514463708984924e-80)"
      ]
     },
     "execution_count": 294,
     "metadata": {},
     "output_type": "execute_result"
    },
    {
     "data": {
      "image/png": "[encoded data removed]",
      "text/plain": [
       "<Figure size 466.25x360 with 1 Axes>"
      ]
     },
     "metadata": {
      "needs_background": "light"
     },
     "output_type": "display_data"
    }
   ],
   "source": [
    "group_diff(posts,'senti_comp')"
   ]
  },
  {
   "cell_type": "markdown",
   "id": "dc6f6150-9d63-457f-954b-00ab3c5f55b6",
   "metadata": {},
   "source": [
    "- Overall posts in both subreddits tended to be slightly more negative then positive. This is not surprising as most news articles are about bad things happening. \n",
    "\n",
    "- Titles from r/nottheonion had a slightly more negative sentiment. \n",
    "    - This is surprising because one might expect fake news articles to be more negative then the real world but in this case it seems the satirical nature of r/theonion might have made it more positive then real news. \n",
    "    \n",
    "- Before adding this to any possible future predictive models it would be worthwhile to study if this trend holds in general or if this is a result of the intended satirical nature of r/theonion "
   ]
  }
 ],
 "metadata": {
  "kernelspec": {
   "display_name": "Python 3",
   "language": "python",
   "name": "python3"
  },
  "language_info": {
   "codemirror_mode": {
    "name": "ipython",
    "version": 3
   },
   "file_extension": ".py",
   "mimetype": "text/x-python",
   "name": "python",
   "nbconvert_exporter": "python",
   "pygments_lexer": "ipython3",
   "version": "3.8.8"
  },
  "toc-autonumbering": true
 },
 "nbformat": 4,
 "nbformat_minor": 5
}
